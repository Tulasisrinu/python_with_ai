{
 "cells": [
  {
   "cell_type": "code",
   "execution_count": 6,
   "id": "1dbe9dfa",
   "metadata": {},
   "outputs": [
    {
     "name": "stdout",
     "output_type": "stream",
     "text": [
      "9\n",
      "1\n",
      "20\n",
      "1.25\n"
     ]
    }
   ],
   "source": [
    "def add(x,y):\n",
    "    print(x+y)\n",
    "    print(x-y)\n",
    "    print(x*y)\n",
    "    print(x/y)\n",
    "add(5,4)    "
   ]
  },
  {
   "cell_type": "markdown",
   "id": "dad40807",
   "metadata": {},
   "source": [
    "# contact applications:"
   ]
  },
  {
   "cell_type": "code",
   "execution_count": 16,
   "id": "e4225ef1",
   "metadata": {},
   "outputs": [
    {
     "name": "stdout",
     "output_type": "stream",
     "text": [
      "contact is added\n"
     ]
    }
   ],
   "source": [
    "# Add contacts\n",
    "contacts={}\n",
    "def add_contacts(name,number):\n",
    "    if name not in contacts:\n",
    "        contacts[name]=number\n",
    "        print(\"contact is added\")\n",
    "    else:\n",
    "            print(\"contact is already exist\")\n",
    "add_contacts(\"srinu\",\"6305711236\")        "
   ]
  },
  {
   "cell_type": "code",
   "execution_count": 17,
   "id": "a44cd52d",
   "metadata": {},
   "outputs": [
    {
     "data": {
      "text/plain": [
       "{'srinu': '6305711236'}"
      ]
     },
     "execution_count": 17,
     "metadata": {},
     "output_type": "execute_result"
    }
   ],
   "source": [
    "contacts"
   ]
  },
  {
   "cell_type": "code",
   "execution_count": 30,
   "id": "6e335372",
   "metadata": {},
   "outputs": [
    {
     "name": "stdout",
     "output_type": "stream",
     "text": [
      "contact is already exist\n"
     ]
    }
   ],
   "source": [
    "add_contacts(\"raju\",\"163632586\")"
   ]
  },
  {
   "cell_type": "code",
   "execution_count": 33,
   "id": "301b07e6",
   "metadata": {},
   "outputs": [
    {
     "name": "stdout",
     "output_type": "stream",
     "text": [
      "contact is already exist\n"
     ]
    }
   ],
   "source": [
    "add_contacts(\"shiva\",\"936551422\")"
   ]
  },
  {
   "cell_type": "code",
   "execution_count": 26,
   "id": "e4590e05",
   "metadata": {},
   "outputs": [
    {
     "name": "stdout",
     "output_type": "stream",
     "text": [
      "srinu : 6305711236\n"
     ]
    }
   ],
   "source": [
    "# search contacts:\n",
    "def searchcontact(name):\n",
    "    if name in contacts:\n",
    "        print(name,\":\",contacts[name])\n",
    "    else:\n",
    "        print(\"contact not exist\")\n",
    "searchcontact(\"srinu\")"
   ]
  },
  {
   "cell_type": "code",
   "execution_count": 24,
   "id": "effef4b1",
   "metadata": {},
   "outputs": [
    {
     "data": {
      "text/plain": [
       "{'srinu': '6305711236'}"
      ]
     },
     "execution_count": 24,
     "metadata": {},
     "output_type": "execute_result"
    }
   ],
   "source": [
    "contacts"
   ]
  },
  {
   "cell_type": "code",
   "execution_count": 29,
   "id": "f3106ab9",
   "metadata": {},
   "outputs": [
    {
     "data": {
      "text/plain": [
       "{'srinu': '6305711236', 'raju': '163632586'}"
      ]
     },
     "execution_count": 29,
     "metadata": {},
     "output_type": "execute_result"
    }
   ],
   "source": [
    "contacts"
   ]
  },
  {
   "cell_type": "code",
   "execution_count": 34,
   "id": "40e557b9",
   "metadata": {},
   "outputs": [
    {
     "data": {
      "text/plain": [
       "{'srinu': '6305711236', 'raju': '163632586', 'shiva': '936551422'}"
      ]
     },
     "execution_count": 34,
     "metadata": {},
     "output_type": "execute_result"
    }
   ],
   "source": [
    "contacts"
   ]
  },
  {
   "cell_type": "code",
   "execution_count": 43,
   "id": "1e05d642",
   "metadata": {},
   "outputs": [
    {
     "name": "stdout",
     "output_type": "stream",
     "text": [
      "contacts not exist\n"
     ]
    }
   ],
   "source": [
    "# delete contacts:\n",
    "def deletecontact(name):\n",
    "    if name in contacts:\n",
    "        del contacts[name]\n",
    "        print(\"contact is delete\")\n",
    "    else:\n",
    "        print(\"contacts not exist\")\n",
    "deletecontact(\"raju\")"
   ]
  },
  {
   "cell_type": "code",
   "execution_count": 40,
   "id": "9c3d540a",
   "metadata": {},
   "outputs": [
    {
     "data": {
      "text/plain": [
       "{'srinu': '6305711236', 'raju': '163632586', 'shiva': '936551422'}"
      ]
     },
     "execution_count": 40,
     "metadata": {},
     "output_type": "execute_result"
    }
   ],
   "source": [
    "contacts"
   ]
  },
  {
   "cell_type": "code",
   "execution_count": 42,
   "id": "835a536e",
   "metadata": {},
   "outputs": [
    {
     "data": {
      "text/plain": [
       "{'srinu': '6305711236', 'shiva': '936551422'}"
      ]
     },
     "execution_count": 42,
     "metadata": {},
     "output_type": "execute_result"
    }
   ],
   "source": [
    "contacts"
   ]
  },
  {
   "cell_type": "code",
   "execution_count": 49,
   "id": "633e3474",
   "metadata": {},
   "outputs": [
    {
     "name": "stdout",
     "output_type": "stream",
     "text": [
      "3 contacts are added\n"
     ]
    }
   ],
   "source": [
    "# merge contacts:\n",
    "def mergecontact(newcontacts):\n",
    "    contacts.update(newcontacts)\n",
    "    print(len(newcontacts.keys()),\"contacts are added\")\n",
    "newcontacts={\"ramu\":\"35365\",\"laxmi\":\"54867\",\"kholi\":\"181818\"}\n",
    "mergecontact(newcontacts)             "
   ]
  },
  {
   "cell_type": "code",
   "execution_count": 50,
   "id": "1d1fae4a",
   "metadata": {},
   "outputs": [
    {
     "data": {
      "text/plain": [
       "{'srinu': '6305711236',\n",
       " 'shiva': '936551422',\n",
       " 'ramu': '35365',\n",
       " 'laxmi': '54867',\n",
       " 'kholi': '181818'}"
      ]
     },
     "execution_count": 50,
     "metadata": {},
     "output_type": "execute_result"
    }
   ],
   "source": [
    "contacts"
   ]
  },
  {
   "cell_type": "markdown",
   "id": "ae5a885a",
   "metadata": {},
   "source": [
    "# string"
   ]
  },
  {
   "cell_type": "code",
   "execution_count": 52,
   "id": "f3601c54",
   "metadata": {},
   "outputs": [
    {
     "name": "stdout",
     "output_type": "stream",
     "text": [
      "python\n",
      "PYTHON\n",
      "p y t h o n\n",
      "p#y#t#h#o#n\n"
     ]
    }
   ],
   "source": [
    "s=\"python\"\n",
    "print(s.lower())\n",
    "print(s.upper())\n",
    "print(\" \".join(s))\n",
    "print(\"#\".join(s))"
   ]
  },
  {
   "cell_type": "code",
   "execution_count": 53,
   "id": "abc547e1",
   "metadata": {},
   "outputs": [
    {
     "name": "stdout",
     "output_type": "stream",
     "text": [
      "['python', 'is', 'a', 'simple', 'programming', 'language']\n",
      "['python ', 's a s', 'mple programm', 'ng language']\n",
      "['pyth', 'n is a simple pr', 'gramming language']\n"
     ]
    }
   ],
   "source": [
    "# split method\n",
    "t=\"python is a simple programming language\"\n",
    "print(t.split())\n",
    "print(t.split(\"i\"))\n",
    "print(t.split(\"o\"))"
   ]
  },
  {
   "cell_type": "code",
   "execution_count": 55,
   "id": "c405bb02",
   "metadata": {},
   "outputs": [
    {
     "name": "stdout",
     "output_type": "stream",
     "text": [
      "kohli is the greatest player in the world\n"
     ]
    }
   ],
   "source": [
    "# replace method\n",
    "t=\"kohli is the best player in the world\"\n",
    "print(t.replace(\"best\",\"greatest\"))"
   ]
  },
  {
   "cell_type": "markdown",
   "id": "be1e3c06",
   "metadata": {},
   "source": [
    "# boolean functions:\n"
   ]
  },
  {
   "cell_type": "code",
   "execution_count": 58,
   "id": "e0e599ae",
   "metadata": {},
   "outputs": [
    {
     "name": "stdout",
     "output_type": "stream",
     "text": [
      "True\n",
      "True\n",
      "True\n",
      "False\n",
      "True\n"
     ]
    }
   ],
   "source": [
    "s=\"python\"\n",
    "print(s.islower())\n",
    "s1=\"PYTHON\"\n",
    "print(s1.isupper())\n",
    "s2=\"Python\"\n",
    "print(s2.istitle())\n",
    "s3=\"Python333\"\n",
    "print(s3.isnumeric())\n",
    "s4=\"PYTHON\"\n",
    "print(s4.isalpha())\n",
    "s5=\" \"\n",
    "s6=\" p \""
   ]
  },
  {
   "cell_type": "code",
   "execution_count": 59,
   "id": "eab99855",
   "metadata": {},
   "outputs": [
    {
     "name": "stdout",
     "output_type": "stream",
     "text": [
      "True\n"
     ]
    }
   ],
   "source": [
    "print(s2.isalpha())"
   ]
  },
  {
   "cell_type": "code",
   "execution_count": 60,
   "id": "598c3412",
   "metadata": {},
   "outputs": [
    {
     "name": "stdout",
     "output_type": "stream",
     "text": [
      "False\n"
     ]
    }
   ],
   "source": [
    "print(s6.isnumeric())"
   ]
  },
  {
   "cell_type": "code",
   "execution_count": 63,
   "id": "1e9c989c",
   "metadata": {},
   "outputs": [
    {
     "name": "stdout",
     "output_type": "stream",
     "text": [
      "False\n",
      "False\n"
     ]
    }
   ],
   "source": [
    "print(s4.islower())\n",
    "print(s4.istitle())"
   ]
  },
  {
   "cell_type": "code",
   "execution_count": 64,
   "id": "1b51fc56",
   "metadata": {},
   "outputs": [
    {
     "ename": "SyntaxError",
     "evalue": "invalid syntax (Temp/ipykernel_12032/2200823315.py, line 2)",
     "output_type": "error",
     "traceback": [
      "\u001b[1;36m  File \u001b[1;32m\"C:\\Users\\user3\\AppData\\Local\\Temp/ipykernel_12032/2200823315.py\"\u001b[1;36m, line \u001b[1;32m2\u001b[0m\n\u001b[1;33m    def <function_name>(<paramaters):\u001b[0m\n\u001b[1;37m        ^\u001b[0m\n\u001b[1;31mSyntaxError\u001b[0m\u001b[1;31m:\u001b[0m invalid syntax\n"
     ]
    }
   ],
   "source": [
    "# syntax:\n",
    "def <function_name>(<paramaters):\n",
    "    statement\n",
    "    return"
   ]
  },
  {
   "cell_type": "code",
   "execution_count": 66,
   "id": "2178f058",
   "metadata": {},
   "outputs": [
    {
     "name": "stdout",
     "output_type": "stream",
     "text": [
      "20\n",
      "9\n"
     ]
    }
   ],
   "source": [
    "# add 2 number\n",
    "def add(x,y):\n",
    "    print(x*y)\n",
    "    print(x+y)\n",
    "add(4,5)"
   ]
  },
  {
   "cell_type": "markdown",
   "id": "ab3d6214",
   "metadata": {},
   "source": [
    "# File handling:\n"
   ]
  },
  {
   "cell_type": "code",
   "execution_count": 68,
   "id": "710edc33",
   "metadata": {
    "scrolled": false
   },
   "outputs": [
    {
     "name": "stdout",
     "output_type": "stream",
     "text": [
      "welcome to file handling.\n"
     ]
    }
   ],
   "source": [
    "f=open(\"file.txt\",\"r\")\n",
    "print(f.read())"
   ]
  },
  {
   "cell_type": "code",
   "execution_count": 70,
   "id": "03e88d31",
   "metadata": {},
   "outputs": [
    {
     "name": "stdout",
     "output_type": "stream",
     "text": [
      "helloo\n",
      "my name is srinu.\n"
     ]
    }
   ],
   "source": [
    "f=open(\"notebook.txt\",\"r\")\n",
    "print(f.read())"
   ]
  },
  {
   "cell_type": "code",
   "execution_count": 73,
   "id": "6cf6f7a9",
   "metadata": {},
   "outputs": [
    {
     "name": "stdout",
     "output_type": "stream",
     "text": [
      "helloo\n",
      "\n"
     ]
    }
   ],
   "source": [
    "f=open(\"notebook.txt\",\"r\")\n",
    "print(f.read(7))"
   ]
  },
  {
   "cell_type": "code",
   "execution_count": 74,
   "id": "d6f68f7e",
   "metadata": {},
   "outputs": [
    {
     "name": "stdout",
     "output_type": "stream",
     "text": [
      "helloo\n",
      "my name is srinu.\n",
      "my father name is suryanarayana.\n",
      "my mother name is nirmala.\n",
      "i am completed my gradution.\n"
     ]
    }
   ],
   "source": [
    "#creat a file and write something to file\n",
    "def creatfile(filename):\n",
    "    f=open (filename,\"w\")\n",
    "    for i in range (12):\n",
    "        f.write(\"i am learning python language\"\"\\n\")\n",
    "    print(\"file is created\")\n",
    "creatfile(\"text.txt\")"
   ]
  },
  {
   "cell_type": "code",
   "execution_count": 75,
   "id": "604762f4",
   "metadata": {},
   "outputs": [
    {
     "name": "stdout",
     "output_type": "stream",
     "text": [
      "helloo\n",
      "my name i\n"
     ]
    }
   ],
   "source": [
    "f=open(\"notebook.txt\",\"r\")\n",
    "print(f.read(16))"
   ]
  },
  {
   "cell_type": "code",
   "execution_count": 76,
   "id": "3124954f",
   "metadata": {},
   "outputs": [
    {
     "name": "stdout",
     "output_type": "stream",
     "text": [
      "helloo\n",
      "\n"
     ]
    }
   ],
   "source": [
    "f=open(\"notebook.txt\",\"r\")\n",
    "print(f.readline())"
   ]
  },
  {
   "cell_type": "code",
   "execution_count": 77,
   "id": "303f68e6",
   "metadata": {},
   "outputs": [
    {
     "name": "stdout",
     "output_type": "stream",
     "text": [
      "helloo\n",
      "\n",
      "my name is srinu.\n",
      "\n",
      "my father name is suryanarayana.\n",
      "\n",
      "my mother name is nirmala.\n",
      "\n",
      "i am completed my gradution.\n"
     ]
    }
   ],
   "source": [
    "f=open(\"notebook.txt\",\"r\")\n",
    "print(f.readline())\n",
    "print(f.readline())\n",
    "print(f.readline())\n",
    "print(f.readline())\n",
    "print(f.readline())"
   ]
  },
  {
   "cell_type": "code",
   "execution_count": 79,
   "id": "760b5a14",
   "metadata": {},
   "outputs": [
    {
     "name": "stdout",
     "output_type": "stream",
     "text": [
      "file is created\n"
     ]
    }
   ],
   "source": [
    "#creat a file and write something to file\n",
    "def creatfile(filename):\n",
    "    f=open (filename,\"w\")\n",
    "    for i in range (12):\n",
    "        f.write(\"i am learning python language\"\"\\n\")\n",
    "    print(\"file is created\")\n",
    "creatfile(\"text.txt\")    \n"
   ]
  },
  {
   "cell_type": "code",
   "execution_count": 80,
   "id": "d554a7ca",
   "metadata": {},
   "outputs": [
    {
     "name": "stdout",
     "output_type": "stream",
     "text": [
      "file is created\n"
     ]
    }
   ],
   "source": [
    "# append a file and write something to file\n",
    "def creatfile(filename):\n",
    "    f=open (filename,\"a\")\n",
    "    for i in range (6):\n",
    "        f.write(\"helloo world\"\"\\n\")\n",
    "    print(\"file is created\")\n",
    "creatfile(\"text.txt\")"
   ]
  },
  {
   "cell_type": "code",
   "execution_count": 81,
   "id": "5bda082c",
   "metadata": {},
   "outputs": [
    {
     "name": "stdout",
     "output_type": "stream",
     "text": [
      "file is created\n"
     ]
    }
   ],
   "source": [
    "#creat a file and write something to file\n",
    "def creatfile(filename):\n",
    "    f=open (filename,\"w\")\n",
    "    for i in range (12):\n",
    "        f.write(\"i am learning python language\"\"\\n\")\n",
    "    print(\"file is created\")\n",
    "creatfile(\"text.txt\")"
   ]
  },
  {
   "cell_type": "code",
   "execution_count": 83,
   "id": "17de0390",
   "metadata": {},
   "outputs": [
    {
     "name": "stdout",
     "output_type": "stream",
     "text": [
      "i am learning python language\n",
      "i am learning python language\n",
      "i am learning python language\n",
      "i am learning python language\n",
      "i am learning python language\n",
      "i am learning python language\n",
      "i am learning python language\n",
      "i am learning python language\n",
      "i am learning python language\n",
      "i am learning python language\n",
      "i am learning python language\n",
      "i am learning python language\n",
      "\n"
     ]
    }
   ],
   "source": [
    "f=open(\"text.txt\",\"r\")\n",
    "print(f.read())"
   ]
  },
  {
   "cell_type": "code",
   "execution_count": null,
   "id": "a8f0f606",
   "metadata": {},
   "outputs": [],
   "source": []
  }
 ],
 "metadata": {
  "kernelspec": {
   "display_name": "Python 3 (ipykernel)",
   "language": "python",
   "name": "python3"
  },
  "language_info": {
   "codemirror_mode": {
    "name": "ipython",
    "version": 3
   },
   "file_extension": ".py",
   "mimetype": "text/x-python",
   "name": "python",
   "nbconvert_exporter": "python",
   "pygments_lexer": "ipython3",
   "version": "3.9.7"
  }
 },
 "nbformat": 4,
 "nbformat_minor": 5
}
