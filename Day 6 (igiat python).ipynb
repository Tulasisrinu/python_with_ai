{
 "cells": [
  {
   "cell_type": "markdown",
   "id": "9b092b82",
   "metadata": {},
   "source": [
    "# python operators\n",
    " - to perform operators on variables and values"
   ]
  },
  {
   "cell_type": "markdown",
   "id": "1b01b8e0",
   "metadata": {},
   "source": [
    "# arthmetic operators\n",
    "- used to perform mathematical operators\n",
    "- operators:\n",
    " - **'+'**-- addition\n",
    " - **'-'**-- subtraction\n",
    " - **'*'**-- multiplication\n",
    " - **'/'**-- division\n",
    " - **'%'**-- modulus\n",
    " - **'**'**-- expoential\n",
    " - **'//'**-- floor division\n"
   ]
  },
  {
   "cell_type": "code",
   "execution_count": 1,
   "id": "80f604cc",
   "metadata": {},
   "outputs": [
    {
     "name": "stdout",
     "output_type": "stream",
     "text": [
      "15\n",
      "5\n",
      "50\n",
      "2.0\n",
      "0\n",
      "100000\n",
      "2\n"
     ]
    }
   ],
   "source": [
    "x=10\n",
    "y=5\n",
    "print(x+y)\n",
    "print(x-y)\n",
    "print(x*y)\n",
    "print(x/y)\n",
    "print(x%y)\n",
    "print(x**y)\n",
    "print(x//y)\n"
   ]
  },
  {
   "cell_type": "markdown",
   "id": "b929d4a9",
   "metadata": {},
   "source": [
    "# assignment operators\n",
    "- used to assign values to variables\n",
    " - operators:\n",
    "  - **'+='**\n",
    "  - **'='**\n",
    "  - **'-='**\n",
    "  - **'*='**\n",
    "  - **'/='**\n",
    "  - **'%='**\n",
    "  -  '**'\n",
    "  - **'//'**\n",
    "  "
   ]
  },
  {
   "cell_type": "code",
   "execution_count": 3,
   "id": "aabac863",
   "metadata": {},
   "outputs": [
    {
     "name": "stdout",
     "output_type": "stream",
     "text": [
      "7\n",
      "5\n",
      "20\n",
      "10.0\n",
      "0.0\n",
      "0.0\n",
      "0.0\n"
     ]
    }
   ],
   "source": [
    "x=3\n",
    "x+=4#x=x+4\n",
    "print(x)\n",
    "x-=2\n",
    "print(x)\n",
    "x*=4\n",
    "print(x)\n",
    "x/=2\n",
    "print(x)\n",
    "x%=2\n",
    "print(x)\n",
    "x**=4\n",
    "print(x)\n",
    "x//=25\n",
    "print(x)\n",
    "    "
   ]
  },
  {
   "cell_type": "markdown",
   "id": "b2eb78a5",
   "metadata": {},
   "source": [
    "# comparision operator\n",
    "\n",
    "   -used to compare values\n",
    "   - operators:\n",
    "    - **==**\n",
    "    - **!=**\n",
    "    - **>=**\n",
    "    - **<=**\n",
    "    - **<**\n",
    "    - **>**\n",
    "    \n",
    "  \n",
    "  "
   ]
  },
  {
   "cell_type": "code",
   "execution_count": 5,
   "id": "679759f3",
   "metadata": {},
   "outputs": [
    {
     "name": "stdout",
     "output_type": "stream",
     "text": [
      "False\n",
      "True\n",
      "False\n",
      "True\n",
      "False\n",
      "True\n"
     ]
    }
   ],
   "source": [
    "x=3\n",
    "y=16\n",
    "print(x==y)\n",
    "print(x!=y)\n",
    "print(x>=y)\n",
    "print(x<y)\n",
    "print(x>y)\n",
    "print(x<=y)\n"
   ]
  },
  {
   "cell_type": "markdown",
   "id": "801025ad",
   "metadata": {},
   "source": [
    "# logical operators\n",
    "- used to compare conditional statements\n",
    "- operators:\n",
    "  - **'and'**\n",
    "  - **'or'**\n",
    "  - **'not'**"
   ]
  },
  {
   "cell_type": "code",
   "execution_count": 14,
   "id": "0b082f53",
   "metadata": {},
   "outputs": [
    {
     "name": "stdout",
     "output_type": "stream",
     "text": [
      "True\n",
      "True\n",
      "True\n"
     ]
    }
   ],
   "source": [
    "x=4\n",
    "print(x>3 and x<7)\n",
    "print(x>4 or x<8)\n",
    "print(not (x<3 or x<4))\n"
   ]
  },
  {
   "cell_type": "markdown",
   "id": "f196b543",
   "metadata": {},
   "source": [
    "# identity operator\n",
    "  - used to compare objects\n",
    "  - operators\n",
    "   - **'is'**\n",
    "   - **'is not'**"
   ]
  },
  {
   "cell_type": "code",
   "execution_count": 15,
   "id": "261309f6",
   "metadata": {},
   "outputs": [
    {
     "name": "stdout",
     "output_type": "stream",
     "text": [
      "True\n",
      "False\n",
      "True\n",
      "True\n"
     ]
    }
   ],
   "source": [
    "a=2\n",
    "b=2\n",
    "c=6\n",
    "print(a is b)\n",
    "print(a is c)\n",
    "print(a is not c)\n",
    "print(a is b is not c)"
   ]
  },
  {
   "cell_type": "markdown",
   "id": "d737c638",
   "metadata": {},
   "source": [
    "# membership operator\n",
    "\n",
    " -used to text given sequence is presented in object\n",
    " - operator:\n",
    "   - **'in'**\n",
    "   - **'not in'**\n",
    "   "
   ]
  },
  {
   "cell_type": "code",
   "execution_count": 18,
   "id": "e036eddc",
   "metadata": {},
   "outputs": [
    {
     "name": "stdout",
     "output_type": "stream",
     "text": [
      "True\n",
      "False\n",
      "False\n",
      "False\n"
     ]
    }
   ],
   "source": [
    "a= \"python\"\n",
    "print( \"y\" in a)\n",
    "print( \"ph\" in a)\n",
    "print( \"s\" in a)\n",
    "print(\"c\" in a)"
   ]
  },
  {
   "cell_type": "markdown",
   "id": "43b557df",
   "metadata": {},
   "source": [
    "# control flow statements\n",
    "- conditional statement\n",
    "  - if-else statements\n",
    "- looping statements \n",
    "  - while loop statement\n",
    "  -for loop statement\n",
    "  \n",
    "   "
   ]
  },
  {
   "cell_type": "markdown",
   "id": "378a1f35",
   "metadata": {},
   "source": [
    "# else statement"
   ]
  },
  {
   "cell_type": "code",
   "execution_count": null,
   "id": "9e2637b7",
   "metadata": {},
   "outputs": [],
   "source": [
    "# syntax\n",
    "if boolean_condition:\n",
    "    statement\n",
    "elif:\n",
    "    statement\n",
    "else:\n",
    "    statement"
   ]
  },
  {
   "cell_type": "code",
   "execution_count": 38,
   "id": "585e35d8",
   "metadata": {},
   "outputs": [
    {
     "name": "stdout",
     "output_type": "stream",
     "text": [
      "enter a number:5\n",
      "odd number\n"
     ]
    }
   ],
   "source": [
    "# check the given number is even or odd\n",
    "n = int(input(\"enter a number:\"))\n",
    "if n %2 ==0:\n",
    "    print(\"even number\")\n",
    "else:\n",
    "    print(\"odd number\")\n",
    "     \n",
    "   "
   ]
  },
  {
   "cell_type": "code",
   "execution_count": 50,
   "id": "634a89d8",
   "metadata": {},
   "outputs": [
    {
     "name": "stdout",
     "output_type": "stream",
     "text": [
      "enter a number:15\n",
      "yes\n"
     ]
    }
   ],
   "source": [
    "# check the given number is multiples of both 3 and 5\n",
    "n = int(input(\"enter a number:\"))\n",
    "if n %3==0 and n %5==0:\n",
    "    print(\"yes\")\n",
    "else:\n",
    "    print(\"no\")"
   ]
  },
  {
   "cell_type": "code",
   "execution_count": 51,
   "id": "a15524fd",
   "metadata": {},
   "outputs": [
    {
     "name": "stdout",
     "output_type": "stream",
     "text": [
      "enter a number:5\n",
      "positive\n"
     ]
    }
   ],
   "source": [
    "# check the given is postive, negative or zero\n",
    "n= int(input(\"enter a number:\"))\n",
    "if n >0:\n",
    "     print (\"positive\")\n",
    "elif n<0:\n",
    "    print (\"negative\")\n",
    "else:\n",
    "    print (\"zero\")"
   ]
  },
  {
   "cell_type": "code",
   "execution_count": 56,
   "id": "4e3dbfa5",
   "metadata": {},
   "outputs": [
    {
     "name": "stdout",
     "output_type": "stream",
     "text": [
      "enter a number:15\n",
      "enter a number:5\n",
      "enter a number:4\n",
      "n is larger\n"
     ]
    }
   ],
   "source": [
    "# check the given is large number by given 3 inputs\n",
    "a= int(input(\"enter a number:\"))\n",
    "b= int(input(\"enter a number:\"))\n",
    "c= int(input(\"enter a number:\"))\n",
    "if a>b and a>c:\n",
    "    print(\"n is larger\")\n",
    "elif b>c and b>a:\n",
    "    print(\"x is larger\")\n",
    "elif c>a and c>b:\n",
    "    \n",
    "    print (\"c is larger\")\n"
   ]
  },
  {
   "cell_type": "code",
   "execution_count": 63,
   "id": "f6aaf7b9",
   "metadata": {},
   "outputs": [
    {
     "name": "stdout",
     "output_type": "stream",
     "text": [
      "enter a number:15\n",
      "n\n"
     ]
    }
   ],
   "source": [
    "# find grading\n",
    "# below 25--F\n",
    "# 25 to 45--E \n",
    "# 45 to 50--D\n",
    "# 50 to 60--C\n",
    "# 60 to 80--B\n",
    "# above 80--A\n",
    "n =int(input(\"enter a number:\"))\n",
    "if n<25:\n",
    "    print  (\"n\")\n",
    "elif n>=26 and n<=50:\n",
    "    print (\"n\")\n",
    "elif n>=50 and n<=50:\n",
    "    print(\"n\")\n",
    "elif n>=55 and n<=60:\n",
    "    print(\"n\")\n",
    "elif n>=65 and n<=70:\n",
    "    print (\"n\")\n",
    "elif n>=80 and n<=90:\n",
    "    print(\"n\")\n",
    "\n"
   ]
  },
  {
   "cell_type": "code",
   "execution_count": 64,
   "id": "cc9df834",
   "metadata": {},
   "outputs": [
    {
     "name": "stdout",
     "output_type": "stream",
     "text": [
      "python\n",
      "python\n",
      "python\n",
      "python\n",
      "python\n"
     ]
    }
   ],
   "source": [
    "i=0\n",
    "while i<5:\n",
    "    print(\"python\")\n",
    "    i=i+1"
   ]
  },
  {
   "cell_type": "code",
   "execution_count": 74,
   "id": "b1b21655",
   "metadata": {},
   "outputs": [
    {
     "name": "stdout",
     "output_type": "stream",
     "text": [
      "python\n",
      "python\n",
      "python\n",
      "python\n",
      "python\n",
      "python\n",
      "python\n",
      "python\n",
      "python\n"
     ]
    }
   ],
   "source": [
    "i=1\n",
    "while i<10:\n",
    "    print(\"python\")\n",
    "    i=i+1"
   ]
  },
  {
   "cell_type": "code",
   "execution_count": 75,
   "id": "a144bfc5",
   "metadata": {},
   "outputs": [
    {
     "name": "stdout",
     "output_type": "stream",
     "text": [
      "i\n",
      "i\n",
      "i\n",
      "i\n",
      "i\n",
      "i\n",
      "i\n",
      "i\n"
     ]
    }
   ],
   "source": [
    "i=1\n",
    "while i<9:\n",
    "    print(\"i\")\n",
    "    i=i+1"
   ]
  },
  {
   "cell_type": "code",
   "execution_count": null,
   "id": "fef1db5a",
   "metadata": {},
   "outputs": [],
   "source": [
    "# print even number from 1\n",
    "i = 1\n",
    "while i <=10:\n",
    "    if i %2 ==0:\n",
    "        print(i, end =\" \")\n",
    "        i=i+1\n"
   ]
  },
  {
   "cell_type": "code",
   "execution_count": 1,
   "id": "8781eed8",
   "metadata": {},
   "outputs": [
    {
     "name": "stdout",
     "output_type": "stream",
     "text": [
      "6\n",
      "1 2 3 6 "
     ]
    }
   ],
   "source": [
    "i=1\n",
    "n =int(input())\n",
    "while i <=n:\n",
    "    if n %i ==0:\n",
    "        print(i,end=\" \")\n",
    "    i = i+1\n"
   ]
  },
  {
   "cell_type": "code",
   "execution_count": null,
   "id": "310fe3ae",
   "metadata": {},
   "outputs": [],
   "source": []
  }
 ],
 "metadata": {
  "kernelspec": {
   "display_name": "Python 3 (ipykernel)",
   "language": "python",
   "name": "python3"
  },
  "language_info": {
   "codemirror_mode": {
    "name": "ipython",
    "version": 3
   },
   "file_extension": ".py",
   "mimetype": "text/x-python",
   "name": "python",
   "nbconvert_exporter": "python",
   "pygments_lexer": "ipython3",
   "version": "3.9.7"
  }
 },
 "nbformat": 4,
 "nbformat_minor": 5
}
