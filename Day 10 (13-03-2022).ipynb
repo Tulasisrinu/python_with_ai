{
 "cells": [
  {
   "cell_type": "code",
   "execution_count": 1,
   "id": "d367e07d",
   "metadata": {},
   "outputs": [
    {
     "name": "stdout",
     "output_type": "stream",
     "text": [
      "helloo\n",
      "my name is srinu.\n",
      "my father name is suryanarayana.\n",
      "my mother name is nirmala.\n",
      "i am completed my gradution.\n"
     ]
    }
   ],
   "source": [
    "# read a file\n",
    "def readfile(filename):\n",
    "    with open(filename,\"r\") as f:\n",
    "        if f.mode==\"r\":\n",
    "            x=f.read()\n",
    "            print(x)\n",
    "readfile(\"notebook.txt\")            "
   ]
  },
  {
   "cell_type": "code",
   "execution_count": 2,
   "id": "337cba61",
   "metadata": {},
   "outputs": [
    {
     "data": {
      "text/plain": [
       "20"
      ]
     },
     "execution_count": 2,
     "metadata": {},
     "output_type": "execute_result"
    }
   ],
   "source": [
    "# word count\n",
    "def wordcount(filename):\n",
    "    with open(filename,\"r\") as f:\n",
    "        if f.mode==\"r\":\n",
    "            x=f.read()\n",
    "            l=x.split()\n",
    "        return len(l)\n",
    "wordcount(\"notebook.txt\")   "
   ]
  },
  {
   "cell_type": "code",
   "execution_count": 3,
   "id": "af040798",
   "metadata": {},
   "outputs": [
    {
     "data": {
      "text/plain": [
       "60"
      ]
     },
     "execution_count": 3,
     "metadata": {},
     "output_type": "execute_result"
    }
   ],
   "source": [
    "wordcount(\"text.txt\")"
   ]
  },
  {
   "cell_type": "code",
   "execution_count": 4,
   "id": "eee222d0",
   "metadata": {},
   "outputs": [
    {
     "data": {
      "text/plain": [
       "1"
      ]
     },
     "execution_count": 4,
     "metadata": {},
     "output_type": "execute_result"
    }
   ],
   "source": [
    "# specific wordcount\n",
    "def specific(filename,word):\n",
    "    with open(filename,\"r\") as f:\n",
    "        if f.mode==\"r\":\n",
    "            x=f.read()\n",
    "            l=x.split()\n",
    "        return l.count(word)\n",
    "specific(\"notebook.txt\",\"helloo\")"
   ]
  },
  {
   "cell_type": "code",
   "execution_count": 5,
   "id": "1e50b694",
   "metadata": {},
   "outputs": [
    {
     "data": {
      "text/plain": [
       "113"
      ]
     },
     "execution_count": 5,
     "metadata": {},
     "output_type": "execute_result"
    }
   ],
   "source": [
    "# count characters\n",
    "def char(filename):\n",
    "    with open(filename,\"r\") as f:\n",
    "        if f.mode==\"r\":\n",
    "            x=f.read()\n",
    "            l=list(x)\n",
    "            return len(l)\n",
    "char(\"notebook.txt\")   "
   ]
  },
  {
   "cell_type": "code",
   "execution_count": 6,
   "id": "1dfabe8c",
   "metadata": {},
   "outputs": [
    {
     "data": {
      "text/plain": [
       "13"
      ]
     },
     "execution_count": 6,
     "metadata": {},
     "output_type": "execute_result"
    }
   ],
   "source": [
    "# count lines\n",
    "def countlines(filename):\n",
    "    with open(filename,\"r\") as f:\n",
    "        if f.mode==\"r\":\n",
    "            x=f.read()\n",
    "            l=x.split(\"\\n\")\n",
    "    return len(l)\n",
    "countlines(\"text.txt\")"
   ]
  },
  {
   "cell_type": "code",
   "execution_count": 7,
   "id": "b4f5f72e",
   "metadata": {},
   "outputs": [
    {
     "data": {
      "text/plain": [
       "5"
      ]
     },
     "execution_count": 7,
     "metadata": {},
     "output_type": "execute_result"
    }
   ],
   "source": [
    "countlines(\"notebook.txt\")"
   ]
  },
  {
   "cell_type": "markdown",
   "id": "f3b41a98",
   "metadata": {},
   "source": [
    "# string slicing:"
   ]
  },
  {
   "cell_type": "code",
   "execution_count": 8,
   "id": "18d74814",
   "metadata": {},
   "outputs": [
    {
     "name": "stdout",
     "output_type": "stream",
     "text": [
      "python programmming <class 'str'>\n"
     ]
    }
   ],
   "source": [
    "s=\"python programmming\"\n",
    "print(s,type(s))"
   ]
  },
  {
   "cell_type": "code",
   "execution_count": 9,
   "id": "79460859",
   "metadata": {},
   "outputs": [
    {
     "name": "stdout",
     "output_type": "stream",
     "text": [
      "p\n",
      "g\n",
      "python p\n",
      "ython pr\n"
     ]
    }
   ],
   "source": [
    "# access\n",
    "print(s[0])\n",
    "print(s[-1])\n",
    "print(s[0:8])\n",
    "print(s[1:9])"
   ]
  },
  {
   "cell_type": "code",
   "execution_count": 10,
   "id": "255f6858",
   "metadata": {},
   "outputs": [
    {
     "name": "stdout",
     "output_type": "stream",
     "text": [
      "ython programmmin\n",
      "thon programmm\n"
     ]
    }
   ],
   "source": [
    "# want to print string\n",
    "print(s[1:-1])\n",
    "print(s[2:-3])"
   ]
  },
  {
   "cell_type": "markdown",
   "id": "efa5a20f",
   "metadata": {},
   "source": [
    "# Ascii systems:"
   ]
  },
  {
   "cell_type": "code",
   "execution_count": 11,
   "id": "530661e2",
   "metadata": {},
   "outputs": [
    {
     "name": "stdout",
     "output_type": "stream",
     "text": [
      "gnimmargorp nohtyp\n"
     ]
    }
   ],
   "source": [
    "# reverse\n",
    "s=\"python programming\"\n",
    "print(s[::-1])"
   ]
  },
  {
   "cell_type": "code",
   "execution_count": 12,
   "id": "b935ab5e",
   "metadata": {},
   "outputs": [
    {
     "name": "stdout",
     "output_type": "stream",
     "text": [
      "gapt\n"
     ]
    }
   ],
   "source": [
    "print(s[::-5])"
   ]
  },
  {
   "cell_type": "code",
   "execution_count": 13,
   "id": "abe90cbc",
   "metadata": {},
   "outputs": [
    {
     "name": "stdout",
     "output_type": "stream",
     "text": [
      "g\n"
     ]
    }
   ],
   "source": [
    "print(s[-1::1])"
   ]
  },
  {
   "cell_type": "code",
   "execution_count": 14,
   "id": "1929d00d",
   "metadata": {},
   "outputs": [
    {
     "data": {
      "text/plain": [
       "'gnimmargorp nohtyp'"
      ]
     },
     "execution_count": 14,
     "metadata": {},
     "output_type": "execute_result"
    }
   ],
   "source": [
    "def reverse(n):\n",
    "    return n[::-1]\n",
    "reverse(\"python programming\")"
   ]
  },
  {
   "cell_type": "code",
   "execution_count": 15,
   "id": "06504666",
   "metadata": {},
   "outputs": [
    {
     "data": {
      "text/plain": [
       "'unirs isalut'"
      ]
     },
     "execution_count": 15,
     "metadata": {},
     "output_type": "execute_result"
    }
   ],
   "source": [
    "def reverse(n):\n",
    "    return n[::-1]\n",
    "reverse(\"tulasi srinu\")"
   ]
  },
  {
   "cell_type": "code",
   "execution_count": 16,
   "id": "8ab613ef",
   "metadata": {},
   "outputs": [
    {
     "name": "stdout",
     "output_type": "stream",
     "text": [
      "y 121 R 82\n"
     ]
    }
   ],
   "source": [
    "s=\"y\"\n",
    "s1=\"R\"\n",
    "print(s,ord(s),s1,ord(s1))"
   ]
  },
  {
   "cell_type": "code",
   "execution_count": 17,
   "id": "9e1bf2b5",
   "metadata": {},
   "outputs": [
    {
     "name": "stdout",
     "output_type": "stream",
     "text": [
      "65 66 67 68 69 70 71 72 73 74 75 76 77 78 79 80 81 82 83 84 85 86 87 88 89 "
     ]
    }
   ],
   "source": [
    "# A-Z\n",
    "for i in range(65,90):\n",
    "    print((i),end=\" \")"
   ]
  },
  {
   "cell_type": "code",
   "execution_count": 18,
   "id": "66f85c88",
   "metadata": {},
   "outputs": [
    {
     "name": "stdout",
     "output_type": "stream",
     "text": [
      "A B C D E F G H I J K L M N O P Q R S T U V W X Y "
     ]
    }
   ],
   "source": [
    "# A-Z\n",
    "for i in range(65,90):\n",
    "    print(chr(i),end=\" \")"
   ]
  },
  {
   "cell_type": "code",
   "execution_count": 19,
   "id": "1d180632",
   "metadata": {},
   "outputs": [
    {
     "name": "stdout",
     "output_type": "stream",
     "text": [
      "97 98 99 100 101 102 103 104 105 106 107 108 109 110 111 112 113 114 115 116 117 118 119 120 121 "
     ]
    }
   ],
   "source": [
    "#a-z\n",
    "for i in range(97,122):\n",
    "    print((i),end=\" \")"
   ]
  },
  {
   "cell_type": "code",
   "execution_count": 20,
   "id": "c5b4adf5",
   "metadata": {},
   "outputs": [
    {
     "name": "stdout",
     "output_type": "stream",
     "text": [
      "a b c d e f g h i j k l m n o p q r s t u v w x y "
     ]
    }
   ],
   "source": [
    "#a-z\n",
    "for i in range(97,122):\n",
    "    print(chr(i),end=\" \")"
   ]
  },
  {
   "cell_type": "code",
   "execution_count": 21,
   "id": "e4d1a528",
   "metadata": {},
   "outputs": [
    {
     "name": "stdout",
     "output_type": "stream",
     "text": [
      "0 1 2 3 4 5 6 7 8 "
     ]
    }
   ],
   "source": [
    "# 0-9\n",
    "for i in range(48,57):\n",
    "    print(chr(i),end=\" \")"
   ]
  },
  {
   "cell_type": "code",
   "execution_count": 22,
   "id": "dba4276d",
   "metadata": {},
   "outputs": [
    {
     "data": {
      "text/plain": [
       "False"
      ]
     },
     "execution_count": 22,
     "metadata": {},
     "output_type": "execute_result"
    }
   ],
   "source": [
    "# check give the string is palindrome or not\n",
    "def palindrome(s):\n",
    "    if s==s[::-1]:\n",
    "        return True\n",
    "    return False\n",
    "palindrome(\"pytho\")"
   ]
  },
  {
   "cell_type": "code",
   "execution_count": 23,
   "id": "c535a1d4",
   "metadata": {},
   "outputs": [
    {
     "data": {
      "text/plain": [
       "True"
      ]
     },
     "execution_count": 23,
     "metadata": {},
     "output_type": "execute_result"
    }
   ],
   "source": [
    "palindrome(\"viakatakaiv\")"
   ]
  },
  {
   "cell_type": "code",
   "execution_count": 24,
   "id": "b16e8564",
   "metadata": {},
   "outputs": [
    {
     "data": {
      "text/plain": [
       "True"
      ]
     },
     "execution_count": 24,
     "metadata": {},
     "output_type": "execute_result"
    }
   ],
   "source": [
    "palindrome(\"aha\")"
   ]
  },
  {
   "cell_type": "code",
   "execution_count": 25,
   "id": "ae2e997b",
   "metadata": {},
   "outputs": [
    {
     "name": "stdout",
     "output_type": "stream",
     "text": [
      "P Y T H O N "
     ]
    }
   ],
   "source": [
    "# print upper case characters from given string\n",
    "def upper(x):\n",
    "    for i in range(len(x)):\n",
    "        if ord(x[i])>65 and ord(x[i])<91:\n",
    "            print(x[i],end=\" \")\n",
    "upper(\"PYTHON programming\")            \n",
    "    "
   ]
  },
  {
   "cell_type": "code",
   "execution_count": 26,
   "id": "65d20794",
   "metadata": {},
   "outputs": [
    {
     "name": "stdout",
     "output_type": "stream",
     "text": [
      "y t h o n "
     ]
    }
   ],
   "source": [
    "# Pring lowercase characters from given string\n",
    "def lower(x):\n",
    "    for i in range(len(x)):\n",
    "        if ord(x[i])>97 and ord(x[i])<123:\n",
    "            print(x[i],end=\" \")\n",
    "lower(\"Python\")            "
   ]
  },
  {
   "cell_type": "code",
   "execution_count": 27,
   "id": "5934259d",
   "metadata": {},
   "outputs": [
    {
     "name": "stdout",
     "output_type": "stream",
     "text": [
      "2 4 6 2 "
     ]
    }
   ],
   "source": [
    "# print digits from given string\n",
    "def digits(x):\n",
    "    for i in range(len(x)):\n",
    "        if ord(x[i])>48 and ord(x[i])<58:\n",
    "            print(x[i],end=\" \")\n",
    "digits(\"srinu24062000\")          "
   ]
  },
  {
   "cell_type": "code",
   "execution_count": 28,
   "id": "7eb0a9f5",
   "metadata": {},
   "outputs": [
    {
     "name": "stdout",
     "output_type": "stream",
     "text": [
      "  "
     ]
    }
   ],
   "source": [
    "# print space from given string\n",
    "def space(x):\n",
    "    for i in range(len(x)):\n",
    "        if ord(x[i])<33:\n",
    "            print(x[i],end=\" \")\n",
    "space(\"Python Programming\")"
   ]
  },
  {
   "cell_type": "code",
   "execution_count": 29,
   "id": "e7ef0dd5",
   "metadata": {},
   "outputs": [
    {
     "data": {
      "text/plain": [
       "'  PYtHoN'"
      ]
     },
     "execution_count": 29,
     "metadata": {},
     "output_type": "execute_result"
    }
   ],
   "source": [
    "# input:pyThOn\n",
    "# output:PYtHoN\n",
    "def case(x):\n",
    "    s1 = \"  \"\n",
    "    for i in range(len(x)):\n",
    "        if ord(x[i])>65 and ord(x[i])<91:\n",
    "            s1+=chr(ord(x[i])+32)\n",
    "        elif ord(x[i])>97 and ord(x[i])<122:\n",
    "            s1+=chr(ord(x[i])-32)\n",
    "    return s1\n",
    "case(\"pyThOn\")"
   ]
  },
  {
   "cell_type": "code",
   "execution_count": 30,
   "id": "64a34888",
   "metadata": {},
   "outputs": [
    {
     "data": {
      "text/plain": [
       "' TulsI'"
      ]
     },
     "execution_count": 30,
     "metadata": {},
     "output_type": "execute_result"
    }
   ],
   "source": [
    "#input:tULASi\n",
    "#output:TulasI\n",
    "def case(x):\n",
    "    s2=\" \"\n",
    "    for i in range(len(x)):\n",
    "        if ord(x[i])>65 and ord(x[i])<91:\n",
    "            s2+=chr(ord(x[i])+32)\n",
    "        elif ord(x[i])>97 and ord(x[i])<122:\n",
    "            s2+=chr(ord(x[i])-32)\n",
    "    return s2\n",
    "case(\"tULASi\")"
   ]
  },
  {
   "cell_type": "code",
   "execution_count": 31,
   "id": "719f014f",
   "metadata": {},
   "outputs": [
    {
     "data": {
      "text/plain": [
       "10"
      ]
     },
     "execution_count": 31,
     "metadata": {},
     "output_type": "execute_result"
    }
   ],
   "source": [
    "#input:P1y2y3o4\n",
    "#output:10(1+2+3+4)\n",
    "def sum(s):\n",
    "    sum=0\n",
    "    for i in range(len(s)):\n",
    "        if ord(s[i])>=48 and ord(s[i])<=57:\n",
    "            sum+=ord(s[i])-48 \n",
    "    return sum\n",
    "sum(\"P1y2y3o4\")"
   ]
  },
  {
   "cell_type": "code",
   "execution_count": 32,
   "id": "57e43e59",
   "metadata": {},
   "outputs": [
    {
     "data": {
      "text/plain": [
       "30"
      ]
     },
     "execution_count": 32,
     "metadata": {},
     "output_type": "execute_result"
    }
   ],
   "source": [
    "#input:s873ba84h\n",
    "def sum(s1):\n",
    "    sum=0\n",
    "    for i in range(len(s1)):\n",
    "        if ord(s1[i])>=48 and ord(s1[i])<57:\n",
    "            sum+=ord(s1[i])-48\n",
    "    return sum\n",
    "sum(\"s873ba84h\")"
   ]
  },
  {
   "cell_type": "code",
   "execution_count": 33,
   "id": "01b5743b",
   "metadata": {},
   "outputs": [
    {
     "data": {
      "text/plain": [
       "6"
      ]
     },
     "execution_count": 33,
     "metadata": {},
     "output_type": "execute_result"
    }
   ],
   "source": [
    "#input:123456\n",
    "#output:(2+4+6)=12\n",
    "def even(x):\n",
    "    sum = 0\n",
    "    while x !=0:\n",
    "        a=x%10\n",
    "        if a%2==0:\n",
    "            sum= sum+a\n",
    "        x =x//10\n",
    "        return sum\n",
    "even(123456)"
   ]
  },
  {
   "cell_type": "code",
   "execution_count": 34,
   "id": "dcdb5b5f",
   "metadata": {},
   "outputs": [
    {
     "data": {
      "text/plain": [
       "3221"
      ]
     },
     "execution_count": 34,
     "metadata": {},
     "output_type": "execute_result"
    }
   ],
   "source": [
    "#input:1223\n",
    "#output:3221\n",
    "def reverse(n):\n",
    "    rev=0\n",
    "    while n !=0:\n",
    "        a=n%10\n",
    "        rev=rev*10+a\n",
    "        n=n//10\n",
    "    return rev\n",
    "reverse(1223)"
   ]
  },
  {
   "cell_type": "code",
   "execution_count": 35,
   "id": "fe5fe519",
   "metadata": {},
   "outputs": [
    {
     "name": "stdout",
     "output_type": "stream",
     "text": [
      "1 2 3 4 5 6 7 8 9 10 11 12 13 14 15 16 17 18 19 20 "
     ]
    }
   ],
   "source": [
    "#print N Natural number\n",
    "def number(n):\n",
    "    for i in range(1,n+1):\n",
    "        print(i,end=\" \")\n",
    "number(20)"
   ]
  },
  {
   "cell_type": "code",
   "execution_count": 36,
   "id": "a870433e",
   "metadata": {},
   "outputs": [
    {
     "name": "stdout",
     "output_type": "stream",
     "text": [
      "1 2 3 4 5 6 7 8 9 10 11 12 13 14 15 16 17 18 19 20 21 22 23 24 25 26 27 28 29 30 31 32 33 34 35 36 37 38 39 40 41 42 43 44 45 46 47 48 49 50 51 52 53 54 55 56 57 58 59 60 61 62 63 64 65 66 67 68 69 70 71 72 73 74 75 76 77 78 79 80 81 82 83 84 85 86 87 88 89 90 91 92 93 94 95 96 97 98 99 100 "
     ]
    }
   ],
   "source": [
    "number(100)"
   ]
  },
  {
   "cell_type": "code",
   "execution_count": 44,
   "id": "b05de4f5",
   "metadata": {},
   "outputs": [
    {
     "name": "stdout",
     "output_type": "stream",
     "text": [
      "Enter the lower limit for the range:2\n",
      "Enter the upper limit for the range:13\n",
      "3\n",
      "5\n",
      "7\n",
      "9\n",
      "11\n"
     ]
    }
   ],
   "source": [
    "lower=int(input(\"Enter the lower limit for the range:\"))\n",
    "upper=int(input(\"Enter the upper limit for the range:\"))\n",
    "for i in range(lower,upper):\n",
    "    if(i%2!=0):\n",
    "        print(i)"
   ]
  },
  {
   "cell_type": "code",
   "execution_count": null,
   "id": "a33898cd",
   "metadata": {},
   "outputs": [],
   "source": []
  }
 ],
 "metadata": {
  "kernelspec": {
   "display_name": "Python 3 (ipykernel)",
   "language": "python",
   "name": "python3"
  },
  "language_info": {
   "codemirror_mode": {
    "name": "ipython",
    "version": 3
   },
   "file_extension": ".py",
   "mimetype": "text/x-python",
   "name": "python",
   "nbconvert_exporter": "python",
   "pygments_lexer": "ipython3",
   "version": "3.9.7"
  }
 },
 "nbformat": 4,
 "nbformat_minor": 5
}
