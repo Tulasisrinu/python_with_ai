{
 "cells": [
  {
   "cell_type": "markdown",
   "id": "7808974b",
   "metadata": {},
   "source": [
    "# markdown\n",
    "## markdown\n",
    "### markdown\n",
    "#### markdown\n",
    "# python\n",
    "     -phton\n",
    "       -phton-1\n",
    "       -phton-2\n",
    "# font style\n",
    "    "
   ]
  },
  {
   "cell_type": "markdown",
   "id": "1534fb58",
   "metadata": {},
   "source": [
    "**Python**\n",
    "*python*\n",
    "***Python***"
   ]
  },
  {
   "cell_type": "markdown",
   "id": "1c86f88d",
   "metadata": {},
   "source": [
    "# Print Function():\n",
    "\n"
   ]
  },
  {
   "cell_type": "markdown",
   "id": "368e1234",
   "metadata": {},
   "source": [
    "  -In python print function used to print specfic text or message "
   ]
  },
  {
   "cell_type": "code",
   "execution_count": 10,
   "id": "9799f31d",
   "metadata": {},
   "outputs": [
    {
     "name": "stdout",
     "output_type": "stream",
     "text": [
      "hello world\n"
     ]
    }
   ],
   "source": [
    "print (\"hello world\")"
   ]
  },
  {
   "cell_type": "code",
   "execution_count": 11,
   "id": "4e157b55",
   "metadata": {},
   "outputs": [
    {
     "name": "stdout",
     "output_type": "stream",
     "text": [
      "hello world\n"
     ]
    }
   ],
   "source": [
    "print (\"hello world\")"
   ]
  },
  {
   "cell_type": "code",
   "execution_count": 12,
   "id": "095617d0",
   "metadata": {},
   "outputs": [
    {
     "name": "stdout",
     "output_type": "stream",
     "text": [
      "hello world\n"
     ]
    }
   ],
   "source": [
    "print(\"hello world\")"
   ]
  },
  {
   "cell_type": "markdown",
   "id": "196d1ba9",
   "metadata": {},
   "source": [
    "# Variables\n",
    "  - To store some data values\n",
    "  "
   ]
  },
  {
   "cell_type": "code",
   "execution_count": 13,
   "id": "8deee158",
   "metadata": {},
   "outputs": [
    {
     "name": "stdout",
     "output_type": "stream",
     "text": [
      "10\n"
     ]
    }
   ],
   "source": [
    "a=10 # single variable assigned with single value\n",
    "print (a)"
   ]
  },
  {
   "cell_type": "code",
   "execution_count": null,
   "id": "b82e283b",
   "metadata": {},
   "outputs": [],
   "source": [
    "a=b=c=10 # single value assigned with multiple variable\n",
    "print(a=b=c)"
   ]
  },
  {
   "cell_type": "markdown",
   "id": "a97362a1",
   "metadata": {},
   "source": [
    "a,b,c=10 "
   ]
  },
  {
   "cell_type": "code",
   "execution_count": 18,
   "id": "028b7ca4",
   "metadata": {},
   "outputs": [
    {
     "name": "stdout",
     "output_type": "stream",
     "text": [
      "10 20 30\n"
     ]
    }
   ],
   "source": [
    "a,b,c=10,20,30 # multiple variable assigned with multiple values\n",
    "print(a,b,c)"
   ]
  },
  {
   "cell_type": "markdown",
   "id": "cdaabee1",
   "metadata": {},
   "source": [
    "# input function\n",
    " "
   ]
  },
  {
   "cell_type": "code",
   "execution_count": 22,
   "id": "fa2f74e4",
   "metadata": {},
   "outputs": [
    {
     "name": "stdout",
     "output_type": "stream",
     "text": [
      "enter a number5\n",
      "5\n"
     ]
    }
   ],
   "source": [
    "# input as a text\n",
    "x=input(\"enter a number\")\n",
    "print(x)\n",
    "#print type(x)"
   ]
  },
  {
   "cell_type": "code",
   "execution_count": 25,
   "id": "e42bff78",
   "metadata": {},
   "outputs": [
    {
     "name": "stdout",
     "output_type": "stream",
     "text": [
      "your name is tulasi\n",
      "tulasi\n"
     ]
    }
   ],
   "source": [
    "# input as a text\n",
    "x=input(\"your name is \")\n",
    "print(x)\n",
    "#print type(x)"
   ]
  },
  {
   "cell_type": "markdown",
   "id": "aab11baa",
   "metadata": {},
   "source": [
    "# data types\n"
   ]
  },
  {
   "cell_type": "code",
   "execution_count": 42,
   "id": "bc2a9b2e",
   "metadata": {},
   "outputs": [
    {
     "name": "stdout",
     "output_type": "stream",
     "text": [
      "10\n",
      "<class 'int'>\n"
     ]
    }
   ],
   "source": [
    "# interger\n",
    "x = 10\n",
    "print(x)\n",
    "print (type (x))"
   ]
  },
  {
   "cell_type": "code",
   "execution_count": 43,
   "id": "93f63ac3",
   "metadata": {},
   "outputs": [
    {
     "name": "stdout",
     "output_type": "stream",
     "text": [
      "10.5\n",
      "<class 'float'>\n"
     ]
    }
   ],
   "source": [
    "# float \n",
    "f= 10.5\n",
    "print(f)\n",
    "print(type(f))"
   ]
  },
  {
   "cell_type": "code",
   "execution_count": 44,
   "id": "ec3389c8",
   "metadata": {},
   "outputs": [
    {
     "name": "stdout",
     "output_type": "stream",
     "text": [
      "python\n",
      "<class 'str'>\n"
     ]
    }
   ],
   "source": [
    "# string\n",
    "s=\"python\"\n",
    "print(s)\n",
    "print(type(s))"
   ]
  },
  {
   "cell_type": "markdown",
   "id": "c84ed187",
   "metadata": {},
   "source": [
    "# data convertions:\n"
   ]
  },
  {
   "cell_type": "code",
   "execution_count": 45,
   "id": "2b0d71e0",
   "metadata": {},
   "outputs": [
    {
     "name": "stdout",
     "output_type": "stream",
     "text": [
      "5 <class 'int'>\n",
      "5.0 <class 'float'>\n",
      "python <class 'str'>\n"
     ]
    }
   ],
   "source": [
    "# intergers\n",
    "n=5\n",
    "print(n,type(n))\n",
    "f=float(n)\n",
    "print(f,type(f))\n",
    "s=\"python\"\n",
    "print(s,type(s))\n"
   ]
  },
  {
   "cell_type": "code",
   "execution_count": 47,
   "id": "86f63c31",
   "metadata": {},
   "outputs": [
    {
     "name": "stdout",
     "output_type": "stream",
     "text": [
      "5 <class 'int'>\n",
      "5.0 <class 'float'>\n",
      "10.5 <class 'float'>\n"
     ]
    }
   ],
   "source": [
    "# string\n",
    "s=(5)\n",
    "print(s,type(s))\n",
    "f=float(n)\n",
    "print(f,type(f))\n",
    "n=10.5\n",
    "print(n,type(n))"
   ]
  },
  {
   "cell_type": "code",
   "execution_count": 50,
   "id": "386b730f",
   "metadata": {},
   "outputs": [
    {
     "name": "stdout",
     "output_type": "stream",
     "text": [
      "10.5 <class 'float'>\n",
      "5 <class 'int'>\n",
      "5 <class 'int'>\n"
     ]
    }
   ],
   "source": [
    "# float\n",
    "f=(n)\n",
    "print(f,type(f))\n",
    "s=5\n",
    "print(s,type(s))\n",
    "n=5\n",
    "print(n,type(n))\n"
   ]
  },
  {
   "cell_type": "markdown",
   "id": "902dacfb",
   "metadata": {},
   "source": [
    "# exercise\n",
    "\n"
   ]
  },
  {
   "cell_type": "markdown",
   "id": "68f69c53",
   "metadata": {},
   "source": []
  },
  {
   "cell_type": "code",
   "execution_count": 2,
   "id": "6d68f0b3",
   "metadata": {},
   "outputs": [
    {
     "name": "stdout",
     "output_type": "stream",
     "text": [
      "enter your nametulasi\n",
      "name is tulasi\n"
     ]
    }
   ],
   "source": [
    "n=input(\"enter your name\")\n",
    "print(\"name is\",n)\n"
   ]
  },
  {
   "cell_type": "code",
   "execution_count": 8,
   "id": "21830e72",
   "metadata": {},
   "outputs": [
    {
     "name": "stdout",
     "output_type": "stream",
     "text": [
      "enter radius5\n",
      "78.5\n"
     ]
    }
   ],
   "source": [
    "Pi = 3.14\n",
    "r =int(input(\"enter radius\"))\n",
    "print(Pi*r*r)"
   ]
  },
  {
   "cell_type": "code",
   "execution_count": 9,
   "id": "19f65626",
   "metadata": {},
   "outputs": [
    {
     "name": "stdout",
     "output_type": "stream",
     "text": [
      "5\n",
      "6\n",
      "11 -1 30 0.8333333333333334\n"
     ]
    }
   ],
   "source": [
    "a=int(input())\n",
    "b=int(input())\n",
    "c=a+b\n",
    "d=a-b\n",
    "e=a*b\n",
    "f=a/b\n",
    "print(c,d,e,f)"
   ]
  },
  {
   "cell_type": "code",
   "execution_count": 12,
   "id": "2399c2a1",
   "metadata": {
    "scrolled": true
   },
   "outputs": [
    {
     "name": "stdout",
     "output_type": "stream",
     "text": [
      "enter a year2021\n",
      "2071\n"
     ]
    }
   ],
   "source": [
    "x=int(input(\"enter a year\"))\n",
    "x= x+50\n",
    "print(x)"
   ]
  },
  {
   "cell_type": "code",
   "execution_count": null,
   "id": "6b76d868",
   "metadata": {},
   "outputs": [],
   "source": []
  }
 ],
 "metadata": {
  "kernelspec": {
   "display_name": "Python 3 (ipykernel)",
   "language": "python",
   "name": "python3"
  },
  "language_info": {
   "codemirror_mode": {
    "name": "ipython",
    "version": 3
   },
   "file_extension": ".py",
   "mimetype": "text/x-python",
   "name": "python",
   "nbconvert_exporter": "python",
   "pygments_lexer": "ipython3",
   "version": "3.9.7"
  }
 },
 "nbformat": 4,
 "nbformat_minor": 5
}
