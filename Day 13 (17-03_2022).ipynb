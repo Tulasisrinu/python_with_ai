{
 "cells": [
  {
   "cell_type": "markdown",
   "id": "3eb7a1cb",
   "metadata": {},
   "source": [
    "# Regular Expressions:\n",
    "- used to match specific pataren matching"
   ]
  },
  {
   "cell_type": "code",
   "execution_count": 1,
   "id": "4588529a",
   "metadata": {},
   "outputs": [
    {
     "data": {
      "text/plain": [
       "True"
      ]
     },
     "execution_count": 1,
     "metadata": {},
     "output_type": "execute_result"
    }
   ],
   "source": [
    "# Test 4 digits numbers\n",
    "import re\n",
    "def digits(n):\n",
    "    pattern=\"^[0-9]{4}$\"\n",
    "    n=str(n)\n",
    "    if re.match(pattern,n):\n",
    "        return True\n",
    "    else:\n",
    "        return False\n",
    "digits(4564)"
   ]
  },
  {
   "cell_type": "code",
   "execution_count": 2,
   "id": "91d03b06",
   "metadata": {},
   "outputs": [
    {
     "data": {
      "text/plain": [
       "False"
      ]
     },
     "execution_count": 2,
     "metadata": {},
     "output_type": "execute_result"
    }
   ],
   "source": [
    "digits(564636)"
   ]
  },
  {
   "cell_type": "code",
   "execution_count": 3,
   "id": "13adf056",
   "metadata": {},
   "outputs": [
    {
     "data": {
      "text/plain": [
       "False"
      ]
     },
     "execution_count": 3,
     "metadata": {},
     "output_type": "execute_result"
    }
   ],
   "source": [
    "# to test username -8characters\n",
    "def char(n):\n",
    "    pattern=\"^[a-zA-Z]{8}$\"\n",
    "    if re.match(pattern,n):\n",
    "        return True\n",
    "    return False\n",
    "char(\"Tulasi srinu\")"
   ]
  },
  {
   "cell_type": "code",
   "execution_count": 4,
   "id": "45852c60",
   "metadata": {},
   "outputs": [
    {
     "data": {
      "text/plain": [
       "True"
      ]
     },
     "execution_count": 4,
     "metadata": {},
     "output_type": "execute_result"
    }
   ],
   "source": [
    "char(\"hgfdhdsg\")"
   ]
  },
  {
   "cell_type": "markdown",
   "id": "1fbc3351",
   "metadata": {},
   "source": [
    "# Re to validate indian mobile number\n",
    "- 9454253144  ---> ^[6-9][0-9]{9}$\n",
    "- 09876543210 ---> ^[o][6-9][0-9]{9}$\n",
    "- +916562365361 ---> ^[+][9][1][6-9][0-9]{9}$"
   ]
  },
  {
   "cell_type": "code",
   "execution_count": 5,
   "id": "485f5b2b",
   "metadata": {},
   "outputs": [
    {
     "data": {
      "text/plain": [
       "False"
      ]
     },
     "execution_count": 5,
     "metadata": {},
     "output_type": "execute_result"
    }
   ],
   "source": [
    "def mobile(n):\n",
    "    pattern=\"^[6-9][0-9]{9}$|^[o][6-9][0-9]{9}$|^[+][9][1][6-9][0-9]{9}$\"\n",
    "    if re.match(pattern,n):\n",
    "        return True\n",
    "    return False\n",
    "mobile(\"5545645654\")"
   ]
  },
  {
   "cell_type": "code",
   "execution_count": 6,
   "id": "7c7fc4f2",
   "metadata": {},
   "outputs": [
    {
     "data": {
      "text/plain": [
       "True"
      ]
     },
     "execution_count": 6,
     "metadata": {},
     "output_type": "execute_result"
    }
   ],
   "source": [
    "mobile(\"+918586745456\")"
   ]
  },
  {
   "cell_type": "code",
   "execution_count": 7,
   "id": "995c7370",
   "metadata": {},
   "outputs": [
    {
     "data": {
      "text/plain": [
       "True"
      ]
     },
     "execution_count": 7,
     "metadata": {},
     "output_type": "execute_result"
    }
   ],
   "source": [
    "mobile(\"9546635145\")"
   ]
  },
  {
   "cell_type": "code",
   "execution_count": 8,
   "id": "440cf1ae",
   "metadata": {},
   "outputs": [
    {
     "data": {
      "text/plain": [
       "True"
      ]
     },
     "execution_count": 8,
     "metadata": {},
     "output_type": "execute_result"
    }
   ],
   "source": [
    "# regular expression role number\n",
    "def roll(n):\n",
    "    pattern=\"^[0-9A-Z]{10}$\"\n",
    "    if re.match(pattern,n):\n",
    "        return True\n",
    "    return False\n",
    "roll(\"196F5A0331\")"
   ]
  },
  {
   "cell_type": "code",
   "execution_count": 9,
   "id": "822c23ec",
   "metadata": {},
   "outputs": [
    {
     "data": {
      "text/plain": [
       "True"
      ]
     },
     "execution_count": 9,
     "metadata": {},
     "output_type": "execute_result"
    }
   ],
   "source": [
    "# regular expresssion for gmail\n",
    "def gmail(n):\n",
    "    pattern=\"^[a-z0-9]{15}|[@][gmail]{5}|[.][com]{3}$\"\n",
    "    if re.match(pattern,n):\n",
    "        return True\n",
    "    return False\n",
    "gmail(\"tulasisrinu2000@gmail.com\")\n",
    "    "
   ]
  },
  {
   "cell_type": "code",
   "execution_count": 10,
   "id": "078a590d",
   "metadata": {},
   "outputs": [
    {
     "data": {
      "text/plain": [
       "False"
      ]
     },
     "execution_count": 10,
     "metadata": {},
     "output_type": "execute_result"
    }
   ],
   "source": [
    "gmail(\"abcdefghij12@gmail.com\")"
   ]
  },
  {
   "cell_type": "code",
   "execution_count": 11,
   "id": "2d37e507",
   "metadata": {},
   "outputs": [
    {
     "data": {
      "text/plain": [
       "True"
      ]
     },
     "execution_count": 11,
     "metadata": {},
     "output_type": "execute_result"
    }
   ],
   "source": [
    "# regular expresssion for gmail\n",
    "def gmail(n):\n",
    "    pattern=\"^[a-z0-9]{5,15}|[@][a-z]{3,5}|[.][a-z]{2,3}$\"\n",
    "    if re.match(pattern,n):\n",
    "        return True\n",
    "    return False\n",
    "gmail(\"tulasisrinu2000@gmail.com\")"
   ]
  },
  {
   "cell_type": "code",
   "execution_count": 12,
   "id": "9dca858c",
   "metadata": {},
   "outputs": [
    {
     "data": {
      "text/plain": [
       "True"
      ]
     },
     "execution_count": 12,
     "metadata": {},
     "output_type": "execute_result"
    }
   ],
   "source": [
    "gmail(\"abcdefghij12@gmail.com\")"
   ]
  },
  {
   "cell_type": "code",
   "execution_count": 13,
   "id": "66ee71c9",
   "metadata": {},
   "outputs": [
    {
     "data": {
      "text/plain": [
       "True"
      ]
     },
     "execution_count": 13,
     "metadata": {},
     "output_type": "execute_result"
    }
   ],
   "source": [
    "gmail(\"sinu333@gmail.com\")"
   ]
  },
  {
   "cell_type": "markdown",
   "id": "e291d735",
   "metadata": {},
   "source": [
    "# Packages and modules:\n",
    "- import math"
   ]
  },
  {
   "cell_type": "code",
   "execution_count": 14,
   "id": "696e46e4",
   "metadata": {},
   "outputs": [],
   "source": [
    "import math"
   ]
  },
  {
   "cell_type": "code",
   "execution_count": 15,
   "id": "ed647175",
   "metadata": {},
   "outputs": [
    {
     "name": "stdout",
     "output_type": "stream",
     "text": [
      "Help on built-in module math:\n",
      "\n",
      "NAME\n",
      "    math\n",
      "\n",
      "DESCRIPTION\n",
      "    This module provides access to the mathematical functions\n",
      "    defined by the C standard.\n",
      "\n",
      "FUNCTIONS\n",
      "    acos(x, /)\n",
      "        Return the arc cosine (measured in radians) of x.\n",
      "        \n",
      "        The result is between 0 and pi.\n",
      "    \n",
      "    acosh(x, /)\n",
      "        Return the inverse hyperbolic cosine of x.\n",
      "    \n",
      "    asin(x, /)\n",
      "        Return the arc sine (measured in radians) of x.\n",
      "        \n",
      "        The result is between -pi/2 and pi/2.\n",
      "    \n",
      "    asinh(x, /)\n",
      "        Return the inverse hyperbolic sine of x.\n",
      "    \n",
      "    atan(x, /)\n",
      "        Return the arc tangent (measured in radians) of x.\n",
      "        \n",
      "        The result is between -pi/2 and pi/2.\n",
      "    \n",
      "    atan2(y, x, /)\n",
      "        Return the arc tangent (measured in radians) of y/x.\n",
      "        \n",
      "        Unlike atan(y/x), the signs of both x and y are considered.\n",
      "    \n",
      "    atanh(x, /)\n",
      "        Return the inverse hyperbolic tangent of x.\n",
      "    \n",
      "    ceil(x, /)\n",
      "        Return the ceiling of x as an Integral.\n",
      "        \n",
      "        This is the smallest integer >= x.\n",
      "    \n",
      "    comb(n, k, /)\n",
      "        Number of ways to choose k items from n items without repetition and without order.\n",
      "        \n",
      "        Evaluates to n! / (k! * (n - k)!) when k <= n and evaluates\n",
      "        to zero when k > n.\n",
      "        \n",
      "        Also called the binomial coefficient because it is equivalent\n",
      "        to the coefficient of k-th term in polynomial expansion of the\n",
      "        expression (1 + x)**n.\n",
      "        \n",
      "        Raises TypeError if either of the arguments are not integers.\n",
      "        Raises ValueError if either of the arguments are negative.\n",
      "    \n",
      "    copysign(x, y, /)\n",
      "        Return a float with the magnitude (absolute value) of x but the sign of y.\n",
      "        \n",
      "        On platforms that support signed zeros, copysign(1.0, -0.0)\n",
      "        returns -1.0.\n",
      "    \n",
      "    cos(x, /)\n",
      "        Return the cosine of x (measured in radians).\n",
      "    \n",
      "    cosh(x, /)\n",
      "        Return the hyperbolic cosine of x.\n",
      "    \n",
      "    degrees(x, /)\n",
      "        Convert angle x from radians to degrees.\n",
      "    \n",
      "    dist(p, q, /)\n",
      "        Return the Euclidean distance between two points p and q.\n",
      "        \n",
      "        The points should be specified as sequences (or iterables) of\n",
      "        coordinates.  Both inputs must have the same dimension.\n",
      "        \n",
      "        Roughly equivalent to:\n",
      "            sqrt(sum((px - qx) ** 2.0 for px, qx in zip(p, q)))\n",
      "    \n",
      "    erf(x, /)\n",
      "        Error function at x.\n",
      "    \n",
      "    erfc(x, /)\n",
      "        Complementary error function at x.\n",
      "    \n",
      "    exp(x, /)\n",
      "        Return e raised to the power of x.\n",
      "    \n",
      "    expm1(x, /)\n",
      "        Return exp(x)-1.\n",
      "        \n",
      "        This function avoids the loss of precision involved in the direct evaluation of exp(x)-1 for small x.\n",
      "    \n",
      "    fabs(x, /)\n",
      "        Return the absolute value of the float x.\n",
      "    \n",
      "    factorial(x, /)\n",
      "        Find x!.\n",
      "        \n",
      "        Raise a ValueError if x is negative or non-integral.\n",
      "    \n",
      "    floor(x, /)\n",
      "        Return the floor of x as an Integral.\n",
      "        \n",
      "        This is the largest integer <= x.\n",
      "    \n",
      "    fmod(x, y, /)\n",
      "        Return fmod(x, y), according to platform C.\n",
      "        \n",
      "        x % y may differ.\n",
      "    \n",
      "    frexp(x, /)\n",
      "        Return the mantissa and exponent of x, as pair (m, e).\n",
      "        \n",
      "        m is a float and e is an int, such that x = m * 2.**e.\n",
      "        If x is 0, m and e are both 0.  Else 0.5 <= abs(m) < 1.0.\n",
      "    \n",
      "    fsum(seq, /)\n",
      "        Return an accurate floating point sum of values in the iterable seq.\n",
      "        \n",
      "        Assumes IEEE-754 floating point arithmetic.\n",
      "    \n",
      "    gamma(x, /)\n",
      "        Gamma function at x.\n",
      "    \n",
      "    gcd(*integers)\n",
      "        Greatest Common Divisor.\n",
      "    \n",
      "    hypot(...)\n",
      "        hypot(*coordinates) -> value\n",
      "        \n",
      "        Multidimensional Euclidean distance from the origin to a point.\n",
      "        \n",
      "        Roughly equivalent to:\n",
      "            sqrt(sum(x**2 for x in coordinates))\n",
      "        \n",
      "        For a two dimensional point (x, y), gives the hypotenuse\n",
      "        using the Pythagorean theorem:  sqrt(x*x + y*y).\n",
      "        \n",
      "        For example, the hypotenuse of a 3/4/5 right triangle is:\n",
      "        \n",
      "            >>> hypot(3.0, 4.0)\n",
      "            5.0\n",
      "    \n",
      "    isclose(a, b, *, rel_tol=1e-09, abs_tol=0.0)\n",
      "        Determine whether two floating point numbers are close in value.\n",
      "        \n",
      "          rel_tol\n",
      "            maximum difference for being considered \"close\", relative to the\n",
      "            magnitude of the input values\n",
      "          abs_tol\n",
      "            maximum difference for being considered \"close\", regardless of the\n",
      "            magnitude of the input values\n",
      "        \n",
      "        Return True if a is close in value to b, and False otherwise.\n",
      "        \n",
      "        For the values to be considered close, the difference between them\n",
      "        must be smaller than at least one of the tolerances.\n",
      "        \n",
      "        -inf, inf and NaN behave similarly to the IEEE 754 Standard.  That\n",
      "        is, NaN is not close to anything, even itself.  inf and -inf are\n",
      "        only close to themselves.\n",
      "    \n",
      "    isfinite(x, /)\n",
      "        Return True if x is neither an infinity nor a NaN, and False otherwise.\n",
      "    \n",
      "    isinf(x, /)\n",
      "        Return True if x is a positive or negative infinity, and False otherwise.\n",
      "    \n",
      "    isnan(x, /)\n",
      "        Return True if x is a NaN (not a number), and False otherwise.\n",
      "    \n",
      "    isqrt(n, /)\n",
      "        Return the integer part of the square root of the input.\n",
      "    \n",
      "    lcm(*integers)\n",
      "        Least Common Multiple.\n",
      "    \n",
      "    ldexp(x, i, /)\n",
      "        Return x * (2**i).\n",
      "        \n",
      "        This is essentially the inverse of frexp().\n",
      "    \n",
      "    lgamma(x, /)\n",
      "        Natural logarithm of absolute value of Gamma function at x.\n",
      "    \n",
      "    log(...)\n",
      "        log(x, [base=math.e])\n",
      "        Return the logarithm of x to the given base.\n",
      "        \n",
      "        If the base not specified, returns the natural logarithm (base e) of x.\n",
      "    \n",
      "    log10(x, /)\n",
      "        Return the base 10 logarithm of x.\n",
      "    \n",
      "    log1p(x, /)\n",
      "        Return the natural logarithm of 1+x (base e).\n",
      "        \n",
      "        The result is computed in a way which is accurate for x near zero.\n",
      "    \n",
      "    log2(x, /)\n",
      "        Return the base 2 logarithm of x.\n",
      "    \n",
      "    modf(x, /)\n",
      "        Return the fractional and integer parts of x.\n",
      "        \n",
      "        Both results carry the sign of x and are floats.\n",
      "    \n",
      "    nextafter(x, y, /)\n",
      "        Return the next floating-point value after x towards y.\n",
      "    \n",
      "    perm(n, k=None, /)\n",
      "        Number of ways to choose k items from n items without repetition and with order.\n",
      "        \n",
      "        Evaluates to n! / (n - k)! when k <= n and evaluates\n",
      "        to zero when k > n.\n",
      "        \n",
      "        If k is not specified or is None, then k defaults to n\n",
      "        and the function returns n!.\n",
      "        \n",
      "        Raises TypeError if either of the arguments are not integers.\n",
      "        Raises ValueError if either of the arguments are negative.\n",
      "    \n",
      "    pow(x, y, /)\n",
      "        Return x**y (x to the power of y).\n",
      "    \n",
      "    prod(iterable, /, *, start=1)\n",
      "        Calculate the product of all the elements in the input iterable.\n",
      "        \n",
      "        The default start value for the product is 1.\n",
      "        \n",
      "        When the iterable is empty, return the start value.  This function is\n",
      "        intended specifically for use with numeric values and may reject\n",
      "        non-numeric types.\n",
      "    \n",
      "    radians(x, /)\n",
      "        Convert angle x from degrees to radians.\n",
      "    \n",
      "    remainder(x, y, /)\n",
      "        Difference between x and the closest integer multiple of y.\n",
      "        \n",
      "        Return x - n*y where n*y is the closest integer multiple of y.\n",
      "        In the case where x is exactly halfway between two multiples of\n",
      "        y, the nearest even value of n is used. The result is always exact.\n",
      "    \n",
      "    sin(x, /)\n",
      "        Return the sine of x (measured in radians).\n",
      "    \n",
      "    sinh(x, /)\n",
      "        Return the hyperbolic sine of x.\n",
      "    \n",
      "    sqrt(x, /)\n",
      "        Return the square root of x.\n",
      "    \n",
      "    tan(x, /)\n",
      "        Return the tangent of x (measured in radians).\n",
      "    \n",
      "    tanh(x, /)\n",
      "        Return the hyperbolic tangent of x.\n",
      "    \n",
      "    trunc(x, /)\n",
      "        Truncates the Real x to the nearest Integral toward 0.\n",
      "        \n",
      "        Uses the __trunc__ magic method.\n",
      "    \n",
      "    ulp(x, /)\n",
      "        Return the value of the least significant bit of the float x.\n",
      "\n",
      "DATA\n",
      "    e = 2.718281828459045\n",
      "    inf = inf\n",
      "    nan = nan\n",
      "    pi = 3.141592653589793\n",
      "    tau = 6.283185307179586\n",
      "\n",
      "FILE\n",
      "    (built-in)\n",
      "\n",
      "\n"
     ]
    }
   ],
   "source": [
    "help(math)"
   ]
  },
  {
   "cell_type": "code",
   "execution_count": 16,
   "id": "862baf69",
   "metadata": {},
   "outputs": [
    {
     "name": "stdout",
     "output_type": "stream",
     "text": [
      "1\n",
      "1\n"
     ]
    }
   ],
   "source": [
    "# floor\n",
    "import math as a\n",
    "print(a.floor(1.5))\n",
    "print(a.floor(1.7))"
   ]
  },
  {
   "cell_type": "code",
   "execution_count": 17,
   "id": "d83ac6a2",
   "metadata": {},
   "outputs": [
    {
     "name": "stdout",
     "output_type": "stream",
     "text": [
      "81.0\n",
      "16384.0\n"
     ]
    }
   ],
   "source": [
    "# power\n",
    "import math as a\n",
    "print(a.pow(3,4))\n",
    "print(a.pow(4,7))"
   ]
  },
  {
   "cell_type": "code",
   "execution_count": 18,
   "id": "795215fb",
   "metadata": {},
   "outputs": [
    {
     "name": "stdout",
     "output_type": "stream",
     "text": [
      "314.1592653589793\n"
     ]
    }
   ],
   "source": [
    "# Area of circle\n",
    "#pie*r*r\n",
    "r=10\n",
    "pie=a.pi\n",
    "print(pie*r*r)"
   ]
  },
  {
   "cell_type": "code",
   "execution_count": 19,
   "id": "521027d2",
   "metadata": {},
   "outputs": [
    {
     "name": "stdout",
     "output_type": "stream",
     "text": [
      "5428.672105403162\n"
     ]
    }
   ],
   "source": [
    "r=12\n",
    "pie=a.pi\n",
    "print(pie*r*r*r)"
   ]
  },
  {
   "cell_type": "code",
   "execution_count": 24,
   "id": "14ceaeac",
   "metadata": {},
   "outputs": [],
   "source": [
    "# Draw a triangle\n",
    "import turtle as t\n",
    "turtle =t.Turtle()\n",
    "for i in range(3):\n",
    "    t.backward(100)\n",
    "    t.right(120)\n",
    "t.done()"
   ]
  },
  {
   "cell_type": "code",
   "execution_count": 26,
   "id": "d21a573a",
   "metadata": {},
   "outputs": [],
   "source": [
    "# draw a squre\n",
    "turtle=t.Turtle()\n",
    "for i in range(4):\n",
    "    t.backward(100)\n",
    "    t.right(90)\n",
    "t.done()"
   ]
  },
  {
   "cell_type": "code",
   "execution_count": 28,
   "id": "86e1d386",
   "metadata": {},
   "outputs": [],
   "source": [
    "# draw a pentagon\n",
    "turtle=t.Turtle()\n",
    "for i in range(5):\n",
    "    t.backward(100)\n",
    "    t.right(72)\n",
    "t.done()"
   ]
  },
  {
   "cell_type": "code",
   "execution_count": 30,
   "id": "9c43c314",
   "metadata": {},
   "outputs": [],
   "source": [
    "# draw a octagonal\n",
    "turtle=t.Turtle()\n",
    "for i in range(8):\n",
    "    t.backward(100)\n",
    "    t.right(45)\n",
    "t.done()"
   ]
  },
  {
   "cell_type": "code",
   "execution_count": 42,
   "id": "3ced6902",
   "metadata": {},
   "outputs": [],
   "source": [
    "# draw a rectangle\n",
    "turtle=t.Turtle()\n",
    "t.color(\"blue\")\n",
    "for i in range(2):\n",
    "    t.backward(100)\n",
    "    t.right(90)\n",
    "    t.backward(45)\n",
    "    t.right(90)\n",
    "t.done()"
   ]
  },
  {
   "cell_type": "code",
   "execution_count": 48,
   "id": "517ec58c",
   "metadata": {},
   "outputs": [],
   "source": [
    "# draw a circle\n",
    "turtle=t.Turtle()\n",
    "t.color(\"pink\")\n",
    "for i in range(360):\n",
    "    t.backward(1)\n",
    "    t.right(1)\n",
    "t.done()"
   ]
  },
  {
   "cell_type": "code",
   "execution_count": 50,
   "id": "aae6addb",
   "metadata": {},
   "outputs": [],
   "source": [
    "# spiraling star\n",
    "turtle=t.Turtle()\n",
    "t.color(\"yellow\")\n",
    "for i in range(50):\n",
    "    t.forward(i*10)\n",
    "    t.right(144)\n",
    "t.done()"
   ]
  },
  {
   "cell_type": "code",
   "execution_count": 60,
   "id": "ccae1e21",
   "metadata": {},
   "outputs": [],
   "source": [
    "# spiraling star\n",
    "turtle=t.Turtle()\n",
    "t.color(\"blue\")\n",
    "t.speed(50)\n",
    "for i in range(50):\n",
    "    t.forward(i*10)\n",
    "    t.right(144)\n",
    "t.done()"
   ]
  },
  {
   "cell_type": "code",
   "execution_count": 64,
   "id": "2c7400f1",
   "metadata": {},
   "outputs": [],
   "source": [
    "# sqaure spiraling star\n",
    "turtle=t.Turtle()\n",
    "t.color(\"gray\")\n",
    "for i in range(200):\n",
    "    t.forward(i)\n",
    "    t.right(91)\n",
    "t.done()"
   ]
  },
  {
   "cell_type": "code",
   "execution_count": 66,
   "id": "7cee8d4e",
   "metadata": {},
   "outputs": [],
   "source": [
    "# sqaure spiraling star\n",
    "turtle=t.Turtle()\n",
    "t.speed(100)\n",
    "t.color(\"gray\")\n",
    "for i in range(200):\n",
    "    t.forward(i)\n",
    "    t.right(91)\n",
    "t.done()"
   ]
  },
  {
   "cell_type": "code",
   "execution_count": 68,
   "id": "d2b17630",
   "metadata": {},
   "outputs": [],
   "source": [
    "turtle=t.Turtle()\n",
    "t.speed(100)\n",
    "t.color(\"gray\")\n",
    "for i in range(200):\n",
    "    t.forward(i)\n",
    "    t.right(73)\n",
    "t.done()"
   ]
  },
  {
   "cell_type": "code",
   "execution_count": 70,
   "id": "db5c6816",
   "metadata": {},
   "outputs": [],
   "source": [
    "turtle=t.Turtle()\n",
    "t.speed(100)\n",
    "t.color(\"gray\")\n",
    "for i in range(200):\n",
    "    t.forward(i)\n",
    "    t.right(46)\n",
    "t.done()"
   ]
  },
  {
   "cell_type": "code",
   "execution_count": 73,
   "id": "e8324e5e",
   "metadata": {},
   "outputs": [
    {
     "name": "stdout",
     "output_type": "stream",
     "text": [
      "12.566370614359172\n"
     ]
    }
   ],
   "source": [
    "# area of circle\n",
    "r=2\n",
    "pie= a.pi\n",
    "print(pie*r*r)"
   ]
  },
  {
   "cell_type": "code",
   "execution_count": null,
   "id": "878387c5",
   "metadata": {},
   "outputs": [],
   "source": []
  }
 ],
 "metadata": {
  "kernelspec": {
   "display_name": "Python 3 (ipykernel)",
   "language": "python",
   "name": "python3"
  },
  "language_info": {
   "codemirror_mode": {
    "name": "ipython",
    "version": 3
   },
   "file_extension": ".py",
   "mimetype": "text/x-python",
   "name": "python",
   "nbconvert_exporter": "python",
   "pygments_lexer": "ipython3",
   "version": "3.9.7"
  }
 },
 "nbformat": 4,
 "nbformat_minor": 5
}
