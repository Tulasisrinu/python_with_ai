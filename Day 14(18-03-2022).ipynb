{
 "cells": [
  {
   "cell_type": "code",
   "execution_count": 76,
   "id": "0d643e3f",
   "metadata": {},
   "outputs": [
    {
     "ename": "AttributeError",
     "evalue": "'Turtle' object has no attribute 'done'",
     "output_type": "error",
     "traceback": [
      "\u001b[1;31m---------------------------------------------------------------------------\u001b[0m",
      "\u001b[1;31mAttributeError\u001b[0m                            Traceback (most recent call last)",
      "\u001b[1;32mC:\\Users\\USER23~1\\AppData\\Local\\Temp/ipykernel_516/1080648040.py\u001b[0m in \u001b[0;36m<module>\u001b[1;34m\u001b[0m\n\u001b[0;32m     13\u001b[0m     \u001b[0msqaure\u001b[0m\u001b[1;33m(\u001b[0m\u001b[1;36m100\u001b[0m\u001b[1;33m,\u001b[0m\u001b[1;36m90\u001b[0m\u001b[1;33m)\u001b[0m\u001b[1;33m\u001b[0m\u001b[1;33m\u001b[0m\u001b[0m\n\u001b[0;32m     14\u001b[0m     \u001b[0mt\u001b[0m\u001b[1;33m.\u001b[0m\u001b[0mright\u001b[0m\u001b[1;33m(\u001b[0m\u001b[1;36m5\u001b[0m\u001b[1;33m)\u001b[0m\u001b[1;33m\u001b[0m\u001b[1;33m\u001b[0m\u001b[0m\n\u001b[1;32m---> 15\u001b[1;33m \u001b[0mt\u001b[0m\u001b[1;33m.\u001b[0m\u001b[0mdone\u001b[0m\u001b[1;33m(\u001b[0m\u001b[1;33m)\u001b[0m\u001b[1;33m\u001b[0m\u001b[1;33m\u001b[0m\u001b[0m\n\u001b[0m",
      "\u001b[1;31mAttributeError\u001b[0m: 'Turtle' object has no attribute 'done'"
     ]
    }
   ],
   "source": [
    "# circle of sqaures:\n",
    "import turtle\n",
    "t=turtle.Turtle()\n",
    "t.speed(100)\n",
    "t.pencolor(\"red\")\n",
    "\n",
    "def sqaure(l,a):\n",
    "    for i in range(4):\n",
    "        t.forward(100)\n",
    "        t.right(90)\n",
    "    \n",
    "for i in range(200):\n",
    "    sqaure(100,90)\n",
    "    t.right(5)\n",
    "t.done()"
   ]
  },
  {
   "cell_type": "code",
   "execution_count": 71,
   "id": "c9502942",
   "metadata": {},
   "outputs": [],
   "source": [
    "#square of squares:\n",
    "import turtle\n",
    "t=turtle.Turtle()\n",
    "t.speed(200)\n",
    "t.pencolor(\"red\")\n",
    "\n",
    "def square(size):\n",
    "    for i in range (4):\n",
    "        t.forward(size)\n",
    "        t.right(90)\n",
    "square(146)\n",
    "square(126)\n",
    "square(96)\n",
    "square(76)\n",
    "square(56)\n",
    "square(46)\n",
    "square(36)\n",
    "square(16)"
   ]
  },
  {
   "cell_type": "markdown",
   "id": "71d7fc4a",
   "metadata": {},
   "source": [
    "# python statistics module:\n",
    "- mean\n",
    "- median\n",
    "- mode\n",
    "- variance"
   ]
  },
  {
   "cell_type": "code",
   "execution_count": 10,
   "id": "8e14b713",
   "metadata": {},
   "outputs": [
    {
     "data": {
      "text/plain": [
       "[1, 2, 3, 4, 5, 6, 7, 8, 9, 10, 11, 12, 13, 14, 15, 16, 17, 18, 19, 20]"
      ]
     },
     "execution_count": 10,
     "metadata": {},
     "output_type": "execute_result"
    }
   ],
   "source": [
    "import statistics as st\n",
    "l =list(range(1,21))\n",
    "l"
   ]
  },
  {
   "cell_type": "code",
   "execution_count": 11,
   "id": "4e94b050",
   "metadata": {},
   "outputs": [
    {
     "name": "stdout",
     "output_type": "stream",
     "text": [
      "10.5\n"
     ]
    }
   ],
   "source": [
    "# mean\n",
    "print(st.mean(l))"
   ]
  },
  {
   "cell_type": "code",
   "execution_count": 13,
   "id": "7234fb23",
   "metadata": {},
   "outputs": [
    {
     "name": "stdout",
     "output_type": "stream",
     "text": [
      "5.0\n"
     ]
    }
   ],
   "source": [
    "#median\n",
    "l1=[1,2,3,3,2,54,54,1,4,53,25,2,6,5,5,5,65,5]\n",
    "print(st.median(l1))"
   ]
  },
  {
   "cell_type": "code",
   "execution_count": 15,
   "id": "f50299de",
   "metadata": {},
   "outputs": [
    {
     "name": "stdout",
     "output_type": "stream",
     "text": [
      "5\n"
     ]
    }
   ],
   "source": [
    "# mode\n",
    "l2=[1,2,3,5,5,6,8,5,9,5,6,5,6,5,6]\n",
    "print(st.mode(l2))"
   ]
  },
  {
   "cell_type": "code",
   "execution_count": 16,
   "id": "4f6a352c",
   "metadata": {},
   "outputs": [
    {
     "name": "stdout",
     "output_type": "stream",
     "text": [
      "4.123809523809523\n"
     ]
    }
   ],
   "source": [
    "#variance\n",
    "print(st.variance(l2))"
   ]
  },
  {
   "cell_type": "markdown",
   "id": "d9a03ce8",
   "metadata": {},
   "source": [
    "# RANDOM MODULE:"
   ]
  },
  {
   "cell_type": "code",
   "execution_count": 17,
   "id": "5f0beb17",
   "metadata": {},
   "outputs": [
    {
     "data": {
      "text/plain": [
       "0.6188680977377966"
      ]
     },
     "execution_count": 17,
     "metadata": {},
     "output_type": "execute_result"
    }
   ],
   "source": [
    "import random as rd\n",
    "rd.random()"
   ]
  },
  {
   "cell_type": "code",
   "execution_count": 24,
   "id": "fc0d766f",
   "metadata": {},
   "outputs": [
    {
     "name": "stdout",
     "output_type": "stream",
     "text": [
      "20\n"
     ]
    }
   ],
   "source": [
    "# randint()\n",
    "print(rd.randint(0,50))"
   ]
  },
  {
   "cell_type": "code",
   "execution_count": 26,
   "id": "3a1125b3",
   "metadata": {},
   "outputs": [
    {
     "name": "stdout",
     "output_type": "stream",
     "text": [
      "7\n"
     ]
    }
   ],
   "source": [
    "# randrange()\n",
    "print(rd.randrange(1,10,3))"
   ]
  },
  {
   "cell_type": "code",
   "execution_count": 31,
   "id": "a543a86d",
   "metadata": {},
   "outputs": [
    {
     "name": "stdout",
     "output_type": "stream",
     "text": [
      "5\n"
     ]
    }
   ],
   "source": [
    "# choice\n",
    "l=[1,2,3,4,5]\n",
    "print(rd.choice(l))"
   ]
  },
  {
   "cell_type": "code",
   "execution_count": 33,
   "id": "6606fc4f",
   "metadata": {},
   "outputs": [
    {
     "name": "stdout",
     "output_type": "stream",
     "text": [
      "[5, 3, 2, 4, 1]\n"
     ]
    }
   ],
   "source": [
    "l=[1,2,3,4,5]\n",
    "rd.shuffle(l)\n",
    "print(l)"
   ]
  },
  {
   "cell_type": "markdown",
   "id": "54cb8aff",
   "metadata": {},
   "source": [
    "# Numpy module:"
   ]
  },
  {
   "cell_type": "code",
   "execution_count": 36,
   "id": "53661748",
   "metadata": {},
   "outputs": [
    {
     "name": "stdout",
     "output_type": "stream",
     "text": [
      "[1 2 3 4 5]\n",
      "<class 'numpy.ndarray'>\n"
     ]
    }
   ],
   "source": [
    "import numpy as np\n",
    "l=[1,2,3,4,5]\n",
    "arr=np.array(l)\n",
    "print(arr)\n",
    "print(type(arr))"
   ]
  },
  {
   "cell_type": "code",
   "execution_count": 38,
   "id": "78b71b86",
   "metadata": {},
   "outputs": [
    {
     "name": "stdout",
     "output_type": "stream",
     "text": [
      "[1, 2, 3, 4, 5, 6, 7, 8, 9, 10, 11, 12, 13, 14, 15, 16, 17, 18, 19, 20, 21, 22, 23, 24, 25, 26, 27, 28, 29, 30]\n",
      "<class 'list'>\n"
     ]
    }
   ],
   "source": [
    "l=list(range(1,31))\n",
    "print(l)\n",
    "print(type(l))"
   ]
  },
  {
   "cell_type": "code",
   "execution_count": 39,
   "id": "5aef228a",
   "metadata": {},
   "outputs": [
    {
     "name": "stdout",
     "output_type": "stream",
     "text": [
      "<class 'numpy.ndarray'>\n"
     ]
    },
    {
     "data": {
      "text/plain": [
       "array([ 1,  2,  3,  4,  5,  6,  7,  8,  9, 10, 11, 12, 13, 14, 15, 16, 17,\n",
       "       18, 19, 20, 21, 22, 23, 24, 25, 26, 27, 28, 29, 30])"
      ]
     },
     "execution_count": 39,
     "metadata": {},
     "output_type": "execute_result"
    }
   ],
   "source": [
    "arr2 =np.arange(1,31)\n",
    "print(type(arr2))\n",
    "arr2"
   ]
  },
  {
   "cell_type": "markdown",
   "id": "590dfb9e",
   "metadata": {},
   "source": [
    "# dimentions in Arrays:"
   ]
  },
  {
   "cell_type": "code",
   "execution_count": 44,
   "id": "a1b510a3",
   "metadata": {},
   "outputs": [
    {
     "name": "stdout",
     "output_type": "stream",
     "text": [
      "[1 2 3 4 5]\n"
     ]
    }
   ],
   "source": [
    "# 1-dimentional\n",
    "import numpy as np\n",
    "arr=np.array([1,2,3,4,5])\n",
    "print(arr)"
   ]
  },
  {
   "cell_type": "code",
   "execution_count": 45,
   "id": "6a6cce78",
   "metadata": {},
   "outputs": [
    {
     "name": "stdout",
     "output_type": "stream",
     "text": [
      "[[ 1  2  3  4  5]\n",
      " [ 6  7  8  9 10]]\n"
     ]
    }
   ],
   "source": [
    "# 2-dimentional\n",
    "arr1=np.array([[1,2,3,4,5],[6,7,8,9,10]])\n",
    "print(arr1)"
   ]
  },
  {
   "cell_type": "code",
   "execution_count": 50,
   "id": "1dd66973",
   "metadata": {},
   "outputs": [
    {
     "name": "stdout",
     "output_type": "stream",
     "text": [
      "[[[ 1  2  3]\n",
      "  [ 6  7  8]]\n",
      "\n",
      " [[11 12 13]\n",
      "  [16 17 18]]]\n"
     ]
    }
   ],
   "source": [
    "# 3-dimentional\n",
    "arr2=np.array([[[1,2,3],[6,7,8]],[[11,12,13],[16,17,18]]])\n",
    "print(arr2)"
   ]
  },
  {
   "cell_type": "code",
   "execution_count": 52,
   "id": "0bf2c546",
   "metadata": {},
   "outputs": [
    {
     "name": "stdout",
     "output_type": "stream",
     "text": [
      "[[[ 1  2  3]\n",
      "  [ 6  7  8]\n",
      "  [ 9 10 11]]\n",
      "\n",
      " [[11 12 13]\n",
      "  [16 17 18]\n",
      "  [19 20 21]]]\n",
      "<class 'numpy.ndarray'>\n"
     ]
    }
   ],
   "source": [
    "arr3=np.array([[[1,2,3],[6,7,8],[9,10,11]],[[11,12,13],[16,17,18],[19,20,21]]])\n",
    "print(arr3)\n",
    "print(type(arr3))"
   ]
  },
  {
   "cell_type": "code",
   "execution_count": 59,
   "id": "1011248b",
   "metadata": {},
   "outputs": [
    {
     "name": "stdout",
     "output_type": "stream",
     "text": [
      "1\n"
     ]
    }
   ],
   "source": [
    "# access this elements\n",
    "#1-dimentional\n",
    "import numpy as np\n",
    "arr=np.array([1,2,3,4,5])\n",
    "print(arr[0])"
   ]
  },
  {
   "cell_type": "code",
   "execution_count": 58,
   "id": "89bfd08c",
   "metadata": {},
   "outputs": [
    {
     "name": "stdout",
     "output_type": "stream",
     "text": [
      "3\n"
     ]
    }
   ],
   "source": [
    "arr=np.array([1,2,3,4,5])\n",
    "print(arr[2])"
   ]
  },
  {
   "cell_type": "code",
   "execution_count": 62,
   "id": "6543c60d",
   "metadata": {},
   "outputs": [
    {
     "name": "stdout",
     "output_type": "stream",
     "text": [
      "4\n"
     ]
    }
   ],
   "source": [
    "# 2 -dimentional\n",
    "arr1=np.array([[1,2,3,4,5],[6,7,8,9,10]])\n",
    "print(arr1[0,3])"
   ]
  },
  {
   "cell_type": "code",
   "execution_count": 63,
   "id": "11b3f37e",
   "metadata": {},
   "outputs": [
    {
     "name": "stdout",
     "output_type": "stream",
     "text": [
      "8\n"
     ]
    }
   ],
   "source": [
    "print(arr1[1,2])"
   ]
  },
  {
   "cell_type": "code",
   "execution_count": 64,
   "id": "a6364524",
   "metadata": {},
   "outputs": [
    {
     "name": "stdout",
     "output_type": "stream",
     "text": [
      "5\n"
     ]
    }
   ],
   "source": [
    "print(arr1[0,4])"
   ]
  },
  {
   "cell_type": "code",
   "execution_count": 65,
   "id": "9d184092",
   "metadata": {},
   "outputs": [
    {
     "name": "stdout",
     "output_type": "stream",
     "text": [
      "11\n"
     ]
    }
   ],
   "source": [
    "#3-dimentional\n",
    "arr3=np.array([[[1,2,3],[6,7,8],[9,10,11]],[[11,12,13],[16,17,18],[19,20,21]]])\n",
    "print(arr3[0,2,2])"
   ]
  },
  {
   "cell_type": "code",
   "execution_count": 66,
   "id": "0ec15fa6",
   "metadata": {},
   "outputs": [
    {
     "name": "stdout",
     "output_type": "stream",
     "text": [
      "20\n"
     ]
    }
   ],
   "source": [
    "print(arr3[1,2,1])"
   ]
  },
  {
   "cell_type": "code",
   "execution_count": 67,
   "id": "9afec2a8",
   "metadata": {},
   "outputs": [
    {
     "name": "stdout",
     "output_type": "stream",
     "text": [
      "7\n"
     ]
    }
   ],
   "source": [
    "print(arr3[0,1,1])"
   ]
  },
  {
   "cell_type": "code",
   "execution_count": 81,
   "id": "c6defa88",
   "metadata": {},
   "outputs": [
    {
     "name": "stdout",
     "output_type": "stream",
     "text": [
      "1\n",
      "[0.81867787 0.17595629 0.47627085 0.88495846]\n"
     ]
    }
   ],
   "source": [
    "from numpy import random\n",
    "print(random.randint(5))\n",
    "print(random.rand(4))\n"
   ]
  },
  {
   "cell_type": "code",
   "execution_count": 86,
   "id": "bff96d62",
   "metadata": {},
   "outputs": [
    {
     "name": "stdout",
     "output_type": "stream",
     "text": [
      "[20 81 87]\n",
      "[56 62 36 79 30  8]\n",
      "[[ 2 91 84 76]\n",
      " [20 33 85 25]]\n"
     ]
    }
   ],
   "source": [
    "# create n-dimentional array with random interger values\n",
    "print(random.randint(100,size=3))\n",
    "print(random.randint(100,size=6))\n",
    "print(random.randint(100,size=(2,4)))"
   ]
  },
  {
   "cell_type": "code",
   "execution_count": 90,
   "id": "09d80050",
   "metadata": {},
   "outputs": [
    {
     "name": "stdout",
     "output_type": "stream",
     "text": [
      "[[[74 76 42]\n",
      "  [17  6 16]\n",
      "  [39 78 39]\n",
      "  [87 58 62]]\n",
      "\n",
      " [[94 74 96]\n",
      "  [24  1 41]\n",
      "  [49  4 86]\n",
      "  [98 86 28]]\n",
      "\n",
      " [[54 49 92]\n",
      "  [11 60 11]\n",
      "  [20 86 29]\n",
      "  [61 38 54]]\n",
      "\n",
      " [[71 94 86]\n",
      "  [89 67 77]\n",
      "  [24 38 54]\n",
      "  [87 44 74]]\n",
      "\n",
      " [[38 55 43]\n",
      "  [21 47 81]\n",
      "  [36 43 68]\n",
      "  [17 72 19]]]\n"
     ]
    }
   ],
   "source": [
    "print(random.randint(100,size=(5,4,3)))"
   ]
  },
  {
   "cell_type": "code",
   "execution_count": 93,
   "id": "3a1a4d2b",
   "metadata": {},
   "outputs": [
    {
     "name": "stdout",
     "output_type": "stream",
     "text": [
      "[0.37011581 0.19568169]\n",
      "[[0.00583387 0.95465462 0.32374211 0.91806521]\n",
      " [0.37855722 0.01236362 0.43699241 0.05992479]]\n"
     ]
    }
   ],
   "source": [
    "# create n-dimentional array with random decimal values\n",
    "print(random.rand(2))\n",
    "print(random.rand(2,4))"
   ]
  },
  {
   "cell_type": "code",
   "execution_count": 96,
   "id": "6363f592",
   "metadata": {},
   "outputs": [
    {
     "name": "stdout",
     "output_type": "stream",
     "text": [
      "[[[0.91244815 0.35895779 0.26246874 0.15984888 0.50280828]\n",
      "  [0.38205605 0.30626398 0.14291623 0.60043672 0.16482754]\n",
      "  [0.89508716 0.77331563 0.8498527  0.66606158 0.32326319]]\n",
      "\n",
      " [[0.80686112 0.5784265  0.36001315 0.20831636 0.71938828]\n",
      "  [0.59045442 0.44715446 0.31156668 0.24606264 0.34152413]\n",
      "  [0.41784318 0.07876047 0.06695621 0.93004328 0.71208954]]\n",
      "\n",
      " [[0.16048343 0.30527004 0.98663168 0.99865535 0.1247973 ]\n",
      "  [0.45838256 0.56989677 0.59702628 0.15005825 0.43408215]\n",
      "  [0.57372234 0.98824316 0.22431738 0.416898   0.68972662]]\n",
      "\n",
      " [[0.63571493 0.54281226 0.68639418 0.80393248 0.41478588]\n",
      "  [0.68844236 0.93013032 0.34486274 0.80050674 0.34221076]\n",
      "  [0.66442786 0.45682789 0.26857898 0.64137752 0.65844818]]]\n"
     ]
    }
   ],
   "source": [
    "print(random.rand(4,3,5))"
   ]
  },
  {
   "cell_type": "markdown",
   "id": "be18aba2",
   "metadata": {},
   "source": [
    "# Pandas module:\n",
    "- used to work with datasets"
   ]
  },
  {
   "cell_type": "code",
   "execution_count": 102,
   "id": "5e526386",
   "metadata": {},
   "outputs": [
    {
     "data": {
      "text/html": [
       "<div>\n",
       "<style scoped>\n",
       "    .dataframe tbody tr th:only-of-type {\n",
       "        vertical-align: middle;\n",
       "    }\n",
       "\n",
       "    .dataframe tbody tr th {\n",
       "        vertical-align: top;\n",
       "    }\n",
       "\n",
       "    .dataframe thead th {\n",
       "        text-align: right;\n",
       "    }\n",
       "</style>\n",
       "<table border=\"1\" class=\"dataframe\">\n",
       "  <thead>\n",
       "    <tr style=\"text-align: right;\">\n",
       "      <th></th>\n",
       "      <th>First</th>\n",
       "      <th>second</th>\n",
       "    </tr>\n",
       "  </thead>\n",
       "  <tbody>\n",
       "    <tr>\n",
       "      <th>a</th>\n",
       "      <td>1</td>\n",
       "      <td>4</td>\n",
       "    </tr>\n",
       "    <tr>\n",
       "      <th>b</th>\n",
       "      <td>2</td>\n",
       "      <td>5</td>\n",
       "    </tr>\n",
       "    <tr>\n",
       "      <th>c</th>\n",
       "      <td>3</td>\n",
       "      <td>6</td>\n",
       "    </tr>\n",
       "  </tbody>\n",
       "</table>\n",
       "</div>"
      ],
      "text/plain": [
       "  First second\n",
       "a     1      4\n",
       "b     2      5\n",
       "c     3      6"
      ]
     },
     "execution_count": 102,
     "metadata": {},
     "output_type": "execute_result"
    }
   ],
   "source": [
    "import pandas as pd\n",
    "d1 = {\"a\":\"1\",\"b\":\"2\",\"c\":\"3\"}\n",
    "d2 ={\"a\":\"4\",\"b\":\"5\",\"c\":\"6\"}\n",
    "data ={\"First\":d1,\"second\":d2}\n",
    "df =pd.DataFrame(data)\n",
    "df"
   ]
  },
  {
   "cell_type": "code",
   "execution_count": 103,
   "id": "b259adab",
   "metadata": {},
   "outputs": [
    {
     "data": {
      "text/html": [
       "<div>\n",
       "<style scoped>\n",
       "    .dataframe tbody tr th:only-of-type {\n",
       "        vertical-align: middle;\n",
       "    }\n",
       "\n",
       "    .dataframe tbody tr th {\n",
       "        vertical-align: top;\n",
       "    }\n",
       "\n",
       "    .dataframe thead th {\n",
       "        text-align: right;\n",
       "    }\n",
       "</style>\n",
       "<table border=\"1\" class=\"dataframe\">\n",
       "  <thead>\n",
       "    <tr style=\"text-align: right;\">\n",
       "      <th></th>\n",
       "      <th>Name</th>\n",
       "      <th>Address</th>\n",
       "    </tr>\n",
       "  </thead>\n",
       "  <tbody>\n",
       "    <tr>\n",
       "      <th>0</th>\n",
       "      <td>srinu</td>\n",
       "      <td>vizag</td>\n",
       "    </tr>\n",
       "    <tr>\n",
       "      <th>1</th>\n",
       "      <td>raj</td>\n",
       "      <td>chennia</td>\n",
       "    </tr>\n",
       "    <tr>\n",
       "      <th>2</th>\n",
       "      <td>sita</td>\n",
       "      <td>mumbai</td>\n",
       "    </tr>\n",
       "  </tbody>\n",
       "</table>\n",
       "</div>"
      ],
      "text/plain": [
       "    Name  Address\n",
       "0  srinu    vizag\n",
       "1    raj  chennia\n",
       "2   sita   mumbai"
      ]
     },
     "execution_count": 103,
     "metadata": {},
     "output_type": "execute_result"
    }
   ],
   "source": [
    "data ={\"Name\":[\"srinu\",\"raj\",\"sita\"],\"Address\":[\"vizag\",\"chennia\",\"mumbai\"]}\n",
    "df =pd.DataFrame(data)\n",
    "df"
   ]
  },
  {
   "cell_type": "code",
   "execution_count": 105,
   "id": "0eb456b4",
   "metadata": {},
   "outputs": [
    {
     "data": {
      "text/html": [
       "<div>\n",
       "<style scoped>\n",
       "    .dataframe tbody tr th:only-of-type {\n",
       "        vertical-align: middle;\n",
       "    }\n",
       "\n",
       "    .dataframe tbody tr th {\n",
       "        vertical-align: top;\n",
       "    }\n",
       "\n",
       "    .dataframe thead th {\n",
       "        text-align: right;\n",
       "    }\n",
       "</style>\n",
       "<table border=\"1\" class=\"dataframe\">\n",
       "  <thead>\n",
       "    <tr style=\"text-align: right;\">\n",
       "      <th></th>\n",
       "      <th>column1</th>\n",
       "      <th>column2</th>\n",
       "      <th>column3</th>\n",
       "    </tr>\n",
       "  </thead>\n",
       "  <tbody>\n",
       "    <tr>\n",
       "      <th>0</th>\n",
       "      <td>a</td>\n",
       "      <td>1</td>\n",
       "      <td>1.2</td>\n",
       "    </tr>\n",
       "    <tr>\n",
       "      <th>1</th>\n",
       "      <td>b</td>\n",
       "      <td>2</td>\n",
       "      <td>3.3</td>\n",
       "    </tr>\n",
       "    <tr>\n",
       "      <th>2</th>\n",
       "      <td>c</td>\n",
       "      <td>3</td>\n",
       "      <td>1.0</td>\n",
       "    </tr>\n",
       "    <tr>\n",
       "      <th>3</th>\n",
       "      <td>d</td>\n",
       "      <td>4</td>\n",
       "      <td>1.5</td>\n",
       "    </tr>\n",
       "    <tr>\n",
       "      <th>4</th>\n",
       "      <td>e</td>\n",
       "      <td>5</td>\n",
       "      <td>4.6</td>\n",
       "    </tr>\n",
       "    <tr>\n",
       "      <th>5</th>\n",
       "      <td>f</td>\n",
       "      <td>6</td>\n",
       "      <td>7.1</td>\n",
       "    </tr>\n",
       "  </tbody>\n",
       "</table>\n",
       "</div>"
      ],
      "text/plain": [
       "  column1  column2  column3\n",
       "0       a        1      1.2\n",
       "1       b        2      3.3\n",
       "2       c        3      1.0\n",
       "3       d        4      1.5\n",
       "4       e        5      4.6\n",
       "5       f        6      7.1"
      ]
     },
     "execution_count": 105,
     "metadata": {},
     "output_type": "execute_result"
    }
   ],
   "source": [
    "# series\n",
    "s1 =pd.Series([1,2,3,4,5,6])\n",
    "s2 =pd.Series([1.2,3.3,1,1.5,4.6,7.1])\n",
    "s3 =pd.Series([\"a\",\"b\",\"c\",\"d\",\"e\",\"f\"])\n",
    "data ={\"column1\":s3,\"column2\":s1,\"column3\":s2}\n",
    "df=pd.DataFrame(data)\n",
    "df"
   ]
  },
  {
   "cell_type": "markdown",
   "id": "46d6812f",
   "metadata": {},
   "source": [
    "# Select data from DataFrame"
   ]
  },
  {
   "cell_type": "code",
   "execution_count": 110,
   "id": "8f8d9a02",
   "metadata": {},
   "outputs": [
    {
     "data": {
      "text/plain": [
       "0    a\n",
       "1    b\n",
       "2    c\n",
       "3    d\n",
       "4    e\n",
       "5    f\n",
       "Name: column1, dtype: object"
      ]
     },
     "execution_count": 110,
     "metadata": {},
     "output_type": "execute_result"
    }
   ],
   "source": [
    "df[\"column1\"]"
   ]
  },
  {
   "cell_type": "code",
   "execution_count": 111,
   "id": "f0ca615b",
   "metadata": {},
   "outputs": [
    {
     "data": {
      "text/plain": [
       "0    1.2\n",
       "1    3.3\n",
       "2    1.0\n",
       "3    1.5\n",
       "4    4.6\n",
       "5    7.1\n",
       "Name: column3, dtype: float64"
      ]
     },
     "execution_count": 111,
     "metadata": {},
     "output_type": "execute_result"
    }
   ],
   "source": [
    "df[\"column3\"]"
   ]
  },
  {
   "cell_type": "code",
   "execution_count": 113,
   "id": "3d7cc895",
   "metadata": {},
   "outputs": [
    {
     "data": {
      "text/plain": [
       "5"
      ]
     },
     "execution_count": 113,
     "metadata": {},
     "output_type": "execute_result"
    }
   ],
   "source": [
    "df.loc[4,\"column2\"]"
   ]
  },
  {
   "cell_type": "code",
   "execution_count": 114,
   "id": "bd1a6c28",
   "metadata": {},
   "outputs": [
    {
     "data": {
      "text/plain": [
       "column1      b\n",
       "column2      2\n",
       "column3    3.3\n",
       "Name: 1, dtype: object"
      ]
     },
     "execution_count": 114,
     "metadata": {},
     "output_type": "execute_result"
    }
   ],
   "source": [
    "df.iloc[1]"
   ]
  },
  {
   "cell_type": "code",
   "execution_count": 122,
   "id": "7275075f",
   "metadata": {},
   "outputs": [
    {
     "data": {
      "text/plain": [
       "column1      d\n",
       "column2      4\n",
       "column3    1.5\n",
       "Name: 3, dtype: object"
      ]
     },
     "execution_count": 122,
     "metadata": {},
     "output_type": "execute_result"
    }
   ],
   "source": [
    "df.iloc[3]"
   ]
  },
  {
   "cell_type": "markdown",
   "id": "ecf7f5a5",
   "metadata": {},
   "source": [
    "df.sample(4)"
   ]
  },
  {
   "cell_type": "code",
   "execution_count": 119,
   "id": "8b076372",
   "metadata": {},
   "outputs": [
    {
     "data": {
      "text/html": [
       "<div>\n",
       "<style scoped>\n",
       "    .dataframe tbody tr th:only-of-type {\n",
       "        vertical-align: middle;\n",
       "    }\n",
       "\n",
       "    .dataframe tbody tr th {\n",
       "        vertical-align: top;\n",
       "    }\n",
       "\n",
       "    .dataframe thead th {\n",
       "        text-align: right;\n",
       "    }\n",
       "</style>\n",
       "<table border=\"1\" class=\"dataframe\">\n",
       "  <thead>\n",
       "    <tr style=\"text-align: right;\">\n",
       "      <th></th>\n",
       "      <th>column1</th>\n",
       "      <th>column2</th>\n",
       "      <th>column3</th>\n",
       "    </tr>\n",
       "  </thead>\n",
       "  <tbody>\n",
       "    <tr>\n",
       "      <th>0</th>\n",
       "      <td>a</td>\n",
       "      <td>1</td>\n",
       "      <td>1.2</td>\n",
       "    </tr>\n",
       "    <tr>\n",
       "      <th>3</th>\n",
       "      <td>d</td>\n",
       "      <td>4</td>\n",
       "      <td>1.5</td>\n",
       "    </tr>\n",
       "  </tbody>\n",
       "</table>\n",
       "</div>"
      ],
      "text/plain": [
       "  column1  column2  column3\n",
       "0       a        1      1.2\n",
       "3       d        4      1.5"
      ]
     },
     "execution_count": 119,
     "metadata": {},
     "output_type": "execute_result"
    }
   ],
   "source": [
    "df.sample(2)"
   ]
  },
  {
   "cell_type": "code",
   "execution_count": 120,
   "id": "b8d1f669",
   "metadata": {},
   "outputs": [
    {
     "data": {
      "text/html": [
       "<div>\n",
       "<style scoped>\n",
       "    .dataframe tbody tr th:only-of-type {\n",
       "        vertical-align: middle;\n",
       "    }\n",
       "\n",
       "    .dataframe tbody tr th {\n",
       "        vertical-align: top;\n",
       "    }\n",
       "\n",
       "    .dataframe thead th {\n",
       "        text-align: right;\n",
       "    }\n",
       "</style>\n",
       "<table border=\"1\" class=\"dataframe\">\n",
       "  <thead>\n",
       "    <tr style=\"text-align: right;\">\n",
       "      <th></th>\n",
       "      <th>column1</th>\n",
       "      <th>column2</th>\n",
       "      <th>column3</th>\n",
       "    </tr>\n",
       "  </thead>\n",
       "  <tbody>\n",
       "    <tr>\n",
       "      <th>4</th>\n",
       "      <td>e</td>\n",
       "      <td>5</td>\n",
       "      <td>4.6</td>\n",
       "    </tr>\n",
       "    <tr>\n",
       "      <th>5</th>\n",
       "      <td>f</td>\n",
       "      <td>6</td>\n",
       "      <td>7.1</td>\n",
       "    </tr>\n",
       "  </tbody>\n",
       "</table>\n",
       "</div>"
      ],
      "text/plain": [
       "  column1  column2  column3\n",
       "4       e        5      4.6\n",
       "5       f        6      7.1"
      ]
     },
     "execution_count": 120,
     "metadata": {},
     "output_type": "execute_result"
    }
   ],
   "source": [
    "df.tail(2)"
   ]
  },
  {
   "cell_type": "code",
   "execution_count": 121,
   "id": "9f0fe2a9",
   "metadata": {},
   "outputs": [
    {
     "data": {
      "text/html": [
       "<div>\n",
       "<style scoped>\n",
       "    .dataframe tbody tr th:only-of-type {\n",
       "        vertical-align: middle;\n",
       "    }\n",
       "\n",
       "    .dataframe tbody tr th {\n",
       "        vertical-align: top;\n",
       "    }\n",
       "\n",
       "    .dataframe thead th {\n",
       "        text-align: right;\n",
       "    }\n",
       "</style>\n",
       "<table border=\"1\" class=\"dataframe\">\n",
       "  <thead>\n",
       "    <tr style=\"text-align: right;\">\n",
       "      <th></th>\n",
       "      <th>column1</th>\n",
       "      <th>column2</th>\n",
       "      <th>column3</th>\n",
       "    </tr>\n",
       "  </thead>\n",
       "  <tbody>\n",
       "    <tr>\n",
       "      <th>0</th>\n",
       "      <td>a</td>\n",
       "      <td>1</td>\n",
       "      <td>1.2</td>\n",
       "    </tr>\n",
       "    <tr>\n",
       "      <th>1</th>\n",
       "      <td>b</td>\n",
       "      <td>2</td>\n",
       "      <td>3.3</td>\n",
       "    </tr>\n",
       "    <tr>\n",
       "      <th>2</th>\n",
       "      <td>c</td>\n",
       "      <td>3</td>\n",
       "      <td>1.0</td>\n",
       "    </tr>\n",
       "  </tbody>\n",
       "</table>\n",
       "</div>"
      ],
      "text/plain": [
       "  column1  column2  column3\n",
       "0       a        1      1.2\n",
       "1       b        2      3.3\n",
       "2       c        3      1.0"
      ]
     },
     "execution_count": 121,
     "metadata": {},
     "output_type": "execute_result"
    }
   ],
   "source": [
    "df.head(3)"
   ]
  },
  {
   "cell_type": "markdown",
   "id": "05318e38",
   "metadata": {},
   "source": [
    "# Matplotlit\n",
    "- used for draw graphas"
   ]
  },
  {
   "cell_type": "code",
   "execution_count": 126,
   "id": "461431ce",
   "metadata": {},
   "outputs": [
    {
     "data": {
      "image/png": "[encoded data removed]",
      "text/plain": [
       "<Figure size 432x288 with 1 Axes>"
      ]
     },
     "metadata": {
      "needs_background": "light"
     },
     "output_type": "display_data"
    }
   ],
   "source": [
    "import matplotlib.pyplot as plt\n",
    "import numpy as np\n",
    "x=np.array([1,4,5,7,9])\n",
    "y=np.array([2,4,5,1,7])\n",
    "\n",
    "plt.title(\"graph\")\n",
    "plt.xlabel(\"x axis\")\n",
    "plt.ylabel(\"y axis\")\n",
    "plt.plot(x,y)\n",
    "plt.show()"
   ]
  },
  {
   "cell_type": "code",
   "execution_count": 127,
   "id": "cdcc760c",
   "metadata": {},
   "outputs": [
    {
     "data": {
      "image/png": "[encoded data removed]",
      "text/plain": [
       "<Figure size 432x288 with 1 Axes>"
      ]
     },
     "metadata": {
      "needs_background": "light"
     },
     "output_type": "display_data"
    }
   ],
   "source": [
    "y=np.array([2,4,5,1,7])\n",
    "\n",
    "plt.title(\"graph\")\n",
    "plt.xlabel(\"x axis\")\n",
    "plt.ylabel(\"y axis\")\n",
    "plt.plot(x,y)\n",
    "plt.show()"
   ]
  },
  {
   "cell_type": "code",
   "execution_count": 128,
   "id": "3aa0a7ff",
   "metadata": {},
   "outputs": [
    {
     "data": {
      "image/png": "[encoded data removed]",
      "text/plain": [
       "<Figure size 432x288 with 1 Axes>"
      ]
     },
     "metadata": {
      "needs_background": "light"
     },
     "output_type": "display_data"
    },
    {
     "data": {
      "image/png": "[encoded data removed]",
      "text/plain": [
       "<Figure size 432x288 with 1 Axes>"
      ]
     },
     "metadata": {
      "needs_background": "light"
     },
     "output_type": "display_data"
    },
    {
     "data": {
      "image/png": "[encoded data removed]",
      "text/plain": [
       "<Figure size 432x288 with 1 Axes>"
      ]
     },
     "metadata": {
      "needs_background": "light"
     },
     "output_type": "display_data"
    },
    {
     "data": {
      "image/png": "[encoded data removed]",
      "text/plain": [
       "<Figure size 432x288 with 1 Axes>"
      ]
     },
     "metadata": {
      "needs_background": "light"
     },
     "output_type": "display_data"
    },
    {
     "data": {
      "image/png": "[encoded data removed]",
      "text/plain": [
       "<Figure size 432x288 with 1 Axes>"
      ]
     },
     "metadata": {
      "needs_background": "light"
     },
     "output_type": "display_data"
    }
   ],
   "source": [
    "#plot1\n",
    "x=np.array([1,4,5,7,9])\n",
    "y=np.array([2,4,5,1,7])\n",
    "\n",
    "plt.title(\"graph\")\n",
    "plt.xlabel(\"x axis\")\n",
    "plt.ylabel(\"y axis\")\n",
    "plt.plot(x,y)\n",
    "plt.show()\n",
    "#plot 2\n",
    "x=np.array([1,4,5,7,9])\n",
    "y=np.array([2,4,5,1,7])\n",
    "plt.subplot(2,3,2)\n",
    "plt.plot(x,y)\n",
    "plt.show()\n",
    "#plot3\n",
    "x=np.array([1,4,5,7,9])\n",
    "y=np.array([2,4,5,1,7])\n",
    "plt.subplot(2,3,3)\n",
    "plt.plot(x,y)\n",
    "plt.show()\n",
    "#plot4\n",
    "x=np.array([1,4,5,7,9])\n",
    "y=np.array([2,4,5,1,7])\n",
    "plt.subplot(2,3,4)\n",
    "plt.plot(x,y)\n",
    "plt.show()\n",
    "#plot5\n",
    "x=np.array([1,4,5,7,9])\n",
    "y=np.array([2,4,5,1,7])\n",
    "plt.subplot(2,3,5)\n",
    "plt.plot(x,y)\n",
    "plt.show()"
   ]
  },
  {
   "cell_type": "code",
   "execution_count": null,
   "id": "21c88c6e",
   "metadata": {},
   "outputs": [],
   "source": []
  }
 ],
 "metadata": {
  "kernelspec": {
   "display_name": "Python 3 (ipykernel)",
   "language": "python",
   "name": "python3"
  },
  "language_info": {
   "codemirror_mode": {
    "name": "ipython",
    "version": 3
   },
   "file_extension": ".py",
   "mimetype": "text/x-python",
   "name": "python",
   "nbconvert_exporter": "python",
   "pygments_lexer": "ipython3",
   "version": "3.9.7"
  }
 },
 "nbformat": 4,
 "nbformat_minor": 5
}
